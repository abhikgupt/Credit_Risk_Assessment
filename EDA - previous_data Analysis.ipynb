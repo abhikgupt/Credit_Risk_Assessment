{
 "cells": [
  {
   "cell_type": "code",
   "execution_count": 48,
   "id": "86c0d904",
   "metadata": {},
   "outputs": [],
   "source": [
    "#Importing Python Libraries\n",
    "import numpy as np\n",
    "import pandas as pd\n",
    "import matplotlib.pyplot as plt\n",
    "import seaborn as sns\n",
    "%matplotlib inline"
   ]
  },
  {
   "cell_type": "code",
   "execution_count": 49,
   "id": "fdd2a2d8",
   "metadata": {},
   "outputs": [],
   "source": [
    "# To Stifle Warnings\n",
    "import warnings\n",
    "warnings.filterwarnings(\"ignore\")"
   ]
  },
  {
   "cell_type": "code",
   "execution_count": 50,
   "id": "4e24ba77",
   "metadata": {},
   "outputs": [],
   "source": [
    "# Since this is quite big dataset ,better to do adjustments in Jupyter Notebooks\n",
    "\n",
    "pd.set_option('display.max_rows', 500)\n",
    "pd.set_option('display.max_columns', 500)\n",
    "pd.set_option('display.width', 1000)\n",
    "pd.set_option('display.expand_frame_repr', False)"
   ]
  },
  {
   "cell_type": "code",
   "execution_count": 51,
   "id": "32ab278c",
   "metadata": {},
   "outputs": [],
   "source": [
    "# importing the previous_application file\n",
    "previousDF = pd.read_csv(r\"C:\\Users\\abhik.gupta\\Documents\\Data_tool_Kit\\Exploratory_Data_Analysis\\Separate_Module_Graded_Questions_8Hrs\\previous_application.csv\")"
   ]
  },
  {
   "cell_type": "code",
   "execution_count": 52,
   "id": "b4049741",
   "metadata": {},
   "outputs": [],
   "source": [
    "applicationDF = pd.read_csv(r\"C:\\Users\\abhik.gupta\\Documents\\Data_tool_Kit\\Exploratory_Data_Analysis\\Separate_Module_Graded_Questions_8Hrs\\application_data.csv\")"
   ]
  },
  {
   "cell_type": "markdown",
   "id": "a74ed926",
   "metadata": {},
   "source": [
    "## Analyzing previous_aplication data"
   ]
  },
  {
   "cell_type": "code",
   "execution_count": 53,
   "id": "38a8283b",
   "metadata": {},
   "outputs": [
    {
     "data": {
      "text/html": [
       "<div>\n",
       "<style scoped>\n",
       "    .dataframe tbody tr th:only-of-type {\n",
       "        vertical-align: middle;\n",
       "    }\n",
       "\n",
       "    .dataframe tbody tr th {\n",
       "        vertical-align: top;\n",
       "    }\n",
       "\n",
       "    .dataframe thead th {\n",
       "        text-align: right;\n",
       "    }\n",
       "</style>\n",
       "<table border=\"1\" class=\"dataframe\">\n",
       "  <thead>\n",
       "    <tr style=\"text-align: right;\">\n",
       "      <th></th>\n",
       "      <th>SK_ID_PREV</th>\n",
       "      <th>SK_ID_CURR</th>\n",
       "      <th>NAME_CONTRACT_TYPE</th>\n",
       "      <th>AMT_ANNUITY</th>\n",
       "      <th>AMT_APPLICATION</th>\n",
       "      <th>AMT_CREDIT</th>\n",
       "      <th>AMT_DOWN_PAYMENT</th>\n",
       "      <th>AMT_GOODS_PRICE</th>\n",
       "      <th>WEEKDAY_APPR_PROCESS_START</th>\n",
       "      <th>HOUR_APPR_PROCESS_START</th>\n",
       "      <th>FLAG_LAST_APPL_PER_CONTRACT</th>\n",
       "      <th>NFLAG_LAST_APPL_IN_DAY</th>\n",
       "      <th>RATE_DOWN_PAYMENT</th>\n",
       "      <th>RATE_INTEREST_PRIMARY</th>\n",
       "      <th>RATE_INTEREST_PRIVILEGED</th>\n",
       "      <th>NAME_CASH_LOAN_PURPOSE</th>\n",
       "      <th>NAME_CONTRACT_STATUS</th>\n",
       "      <th>DAYS_DECISION</th>\n",
       "      <th>NAME_PAYMENT_TYPE</th>\n",
       "      <th>CODE_REJECT_REASON</th>\n",
       "      <th>NAME_TYPE_SUITE</th>\n",
       "      <th>NAME_CLIENT_TYPE</th>\n",
       "      <th>NAME_GOODS_CATEGORY</th>\n",
       "      <th>NAME_PORTFOLIO</th>\n",
       "      <th>NAME_PRODUCT_TYPE</th>\n",
       "      <th>CHANNEL_TYPE</th>\n",
       "      <th>SELLERPLACE_AREA</th>\n",
       "      <th>NAME_SELLER_INDUSTRY</th>\n",
       "      <th>CNT_PAYMENT</th>\n",
       "      <th>NAME_YIELD_GROUP</th>\n",
       "      <th>PRODUCT_COMBINATION</th>\n",
       "      <th>DAYS_FIRST_DRAWING</th>\n",
       "      <th>DAYS_FIRST_DUE</th>\n",
       "      <th>DAYS_LAST_DUE_1ST_VERSION</th>\n",
       "      <th>DAYS_LAST_DUE</th>\n",
       "      <th>DAYS_TERMINATION</th>\n",
       "      <th>NFLAG_INSURED_ON_APPROVAL</th>\n",
       "    </tr>\n",
       "  </thead>\n",
       "  <tbody>\n",
       "    <tr>\n",
       "      <th>0</th>\n",
       "      <td>2030495</td>\n",
       "      <td>271877</td>\n",
       "      <td>Consumer loans</td>\n",
       "      <td>1730.430</td>\n",
       "      <td>17145.0</td>\n",
       "      <td>17145.0</td>\n",
       "      <td>0.0</td>\n",
       "      <td>17145.0</td>\n",
       "      <td>SATURDAY</td>\n",
       "      <td>15</td>\n",
       "      <td>Y</td>\n",
       "      <td>1</td>\n",
       "      <td>0.0</td>\n",
       "      <td>0.182832</td>\n",
       "      <td>0.867336</td>\n",
       "      <td>XAP</td>\n",
       "      <td>Approved</td>\n",
       "      <td>-73</td>\n",
       "      <td>Cash through the bank</td>\n",
       "      <td>XAP</td>\n",
       "      <td>NaN</td>\n",
       "      <td>Repeater</td>\n",
       "      <td>Mobile</td>\n",
       "      <td>POS</td>\n",
       "      <td>XNA</td>\n",
       "      <td>Country-wide</td>\n",
       "      <td>35</td>\n",
       "      <td>Connectivity</td>\n",
       "      <td>12.0</td>\n",
       "      <td>middle</td>\n",
       "      <td>POS mobile with interest</td>\n",
       "      <td>365243.0</td>\n",
       "      <td>-42.0</td>\n",
       "      <td>300.0</td>\n",
       "      <td>-42.0</td>\n",
       "      <td>-37.0</td>\n",
       "      <td>0.0</td>\n",
       "    </tr>\n",
       "    <tr>\n",
       "      <th>1</th>\n",
       "      <td>2802425</td>\n",
       "      <td>108129</td>\n",
       "      <td>Cash loans</td>\n",
       "      <td>25188.615</td>\n",
       "      <td>607500.0</td>\n",
       "      <td>679671.0</td>\n",
       "      <td>NaN</td>\n",
       "      <td>607500.0</td>\n",
       "      <td>THURSDAY</td>\n",
       "      <td>11</td>\n",
       "      <td>Y</td>\n",
       "      <td>1</td>\n",
       "      <td>NaN</td>\n",
       "      <td>NaN</td>\n",
       "      <td>NaN</td>\n",
       "      <td>XNA</td>\n",
       "      <td>Approved</td>\n",
       "      <td>-164</td>\n",
       "      <td>XNA</td>\n",
       "      <td>XAP</td>\n",
       "      <td>Unaccompanied</td>\n",
       "      <td>Repeater</td>\n",
       "      <td>XNA</td>\n",
       "      <td>Cash</td>\n",
       "      <td>x-sell</td>\n",
       "      <td>Contact center</td>\n",
       "      <td>-1</td>\n",
       "      <td>XNA</td>\n",
       "      <td>36.0</td>\n",
       "      <td>low_action</td>\n",
       "      <td>Cash X-Sell: low</td>\n",
       "      <td>365243.0</td>\n",
       "      <td>-134.0</td>\n",
       "      <td>916.0</td>\n",
       "      <td>365243.0</td>\n",
       "      <td>365243.0</td>\n",
       "      <td>1.0</td>\n",
       "    </tr>\n",
       "    <tr>\n",
       "      <th>2</th>\n",
       "      <td>2523466</td>\n",
       "      <td>122040</td>\n",
       "      <td>Cash loans</td>\n",
       "      <td>15060.735</td>\n",
       "      <td>112500.0</td>\n",
       "      <td>136444.5</td>\n",
       "      <td>NaN</td>\n",
       "      <td>112500.0</td>\n",
       "      <td>TUESDAY</td>\n",
       "      <td>11</td>\n",
       "      <td>Y</td>\n",
       "      <td>1</td>\n",
       "      <td>NaN</td>\n",
       "      <td>NaN</td>\n",
       "      <td>NaN</td>\n",
       "      <td>XNA</td>\n",
       "      <td>Approved</td>\n",
       "      <td>-301</td>\n",
       "      <td>Cash through the bank</td>\n",
       "      <td>XAP</td>\n",
       "      <td>Spouse, partner</td>\n",
       "      <td>Repeater</td>\n",
       "      <td>XNA</td>\n",
       "      <td>Cash</td>\n",
       "      <td>x-sell</td>\n",
       "      <td>Credit and cash offices</td>\n",
       "      <td>-1</td>\n",
       "      <td>XNA</td>\n",
       "      <td>12.0</td>\n",
       "      <td>high</td>\n",
       "      <td>Cash X-Sell: high</td>\n",
       "      <td>365243.0</td>\n",
       "      <td>-271.0</td>\n",
       "      <td>59.0</td>\n",
       "      <td>365243.0</td>\n",
       "      <td>365243.0</td>\n",
       "      <td>1.0</td>\n",
       "    </tr>\n",
       "    <tr>\n",
       "      <th>3</th>\n",
       "      <td>2819243</td>\n",
       "      <td>176158</td>\n",
       "      <td>Cash loans</td>\n",
       "      <td>47041.335</td>\n",
       "      <td>450000.0</td>\n",
       "      <td>470790.0</td>\n",
       "      <td>NaN</td>\n",
       "      <td>450000.0</td>\n",
       "      <td>MONDAY</td>\n",
       "      <td>7</td>\n",
       "      <td>Y</td>\n",
       "      <td>1</td>\n",
       "      <td>NaN</td>\n",
       "      <td>NaN</td>\n",
       "      <td>NaN</td>\n",
       "      <td>XNA</td>\n",
       "      <td>Approved</td>\n",
       "      <td>-512</td>\n",
       "      <td>Cash through the bank</td>\n",
       "      <td>XAP</td>\n",
       "      <td>NaN</td>\n",
       "      <td>Repeater</td>\n",
       "      <td>XNA</td>\n",
       "      <td>Cash</td>\n",
       "      <td>x-sell</td>\n",
       "      <td>Credit and cash offices</td>\n",
       "      <td>-1</td>\n",
       "      <td>XNA</td>\n",
       "      <td>12.0</td>\n",
       "      <td>middle</td>\n",
       "      <td>Cash X-Sell: middle</td>\n",
       "      <td>365243.0</td>\n",
       "      <td>-482.0</td>\n",
       "      <td>-152.0</td>\n",
       "      <td>-182.0</td>\n",
       "      <td>-177.0</td>\n",
       "      <td>1.0</td>\n",
       "    </tr>\n",
       "    <tr>\n",
       "      <th>4</th>\n",
       "      <td>1784265</td>\n",
       "      <td>202054</td>\n",
       "      <td>Cash loans</td>\n",
       "      <td>31924.395</td>\n",
       "      <td>337500.0</td>\n",
       "      <td>404055.0</td>\n",
       "      <td>NaN</td>\n",
       "      <td>337500.0</td>\n",
       "      <td>THURSDAY</td>\n",
       "      <td>9</td>\n",
       "      <td>Y</td>\n",
       "      <td>1</td>\n",
       "      <td>NaN</td>\n",
       "      <td>NaN</td>\n",
       "      <td>NaN</td>\n",
       "      <td>Repairs</td>\n",
       "      <td>Refused</td>\n",
       "      <td>-781</td>\n",
       "      <td>Cash through the bank</td>\n",
       "      <td>HC</td>\n",
       "      <td>NaN</td>\n",
       "      <td>Repeater</td>\n",
       "      <td>XNA</td>\n",
       "      <td>Cash</td>\n",
       "      <td>walk-in</td>\n",
       "      <td>Credit and cash offices</td>\n",
       "      <td>-1</td>\n",
       "      <td>XNA</td>\n",
       "      <td>24.0</td>\n",
       "      <td>high</td>\n",
       "      <td>Cash Street: high</td>\n",
       "      <td>NaN</td>\n",
       "      <td>NaN</td>\n",
       "      <td>NaN</td>\n",
       "      <td>NaN</td>\n",
       "      <td>NaN</td>\n",
       "      <td>NaN</td>\n",
       "    </tr>\n",
       "  </tbody>\n",
       "</table>\n",
       "</div>"
      ],
      "text/plain": [
       "   SK_ID_PREV  SK_ID_CURR NAME_CONTRACT_TYPE  AMT_ANNUITY  AMT_APPLICATION  AMT_CREDIT  AMT_DOWN_PAYMENT  AMT_GOODS_PRICE WEEKDAY_APPR_PROCESS_START  HOUR_APPR_PROCESS_START FLAG_LAST_APPL_PER_CONTRACT  NFLAG_LAST_APPL_IN_DAY  RATE_DOWN_PAYMENT  RATE_INTEREST_PRIMARY  RATE_INTEREST_PRIVILEGED NAME_CASH_LOAN_PURPOSE NAME_CONTRACT_STATUS  DAYS_DECISION      NAME_PAYMENT_TYPE CODE_REJECT_REASON  NAME_TYPE_SUITE NAME_CLIENT_TYPE NAME_GOODS_CATEGORY NAME_PORTFOLIO NAME_PRODUCT_TYPE             CHANNEL_TYPE  SELLERPLACE_AREA NAME_SELLER_INDUSTRY  CNT_PAYMENT NAME_YIELD_GROUP       PRODUCT_COMBINATION  DAYS_FIRST_DRAWING  DAYS_FIRST_DUE  DAYS_LAST_DUE_1ST_VERSION  DAYS_LAST_DUE  DAYS_TERMINATION  NFLAG_INSURED_ON_APPROVAL\n",
       "0     2030495      271877     Consumer loans     1730.430          17145.0     17145.0               0.0          17145.0                   SATURDAY                       15                           Y                       1                0.0               0.182832                  0.867336                    XAP             Approved            -73  Cash through the bank                XAP              NaN         Repeater              Mobile            POS               XNA             Country-wide                35         Connectivity         12.0           middle  POS mobile with interest            365243.0           -42.0                      300.0          -42.0             -37.0                        0.0\n",
       "1     2802425      108129         Cash loans    25188.615         607500.0    679671.0               NaN         607500.0                   THURSDAY                       11                           Y                       1                NaN                    NaN                       NaN                    XNA             Approved           -164                    XNA                XAP    Unaccompanied         Repeater                 XNA           Cash            x-sell           Contact center                -1                  XNA         36.0       low_action          Cash X-Sell: low            365243.0          -134.0                      916.0       365243.0          365243.0                        1.0\n",
       "2     2523466      122040         Cash loans    15060.735         112500.0    136444.5               NaN         112500.0                    TUESDAY                       11                           Y                       1                NaN                    NaN                       NaN                    XNA             Approved           -301  Cash through the bank                XAP  Spouse, partner         Repeater                 XNA           Cash            x-sell  Credit and cash offices                -1                  XNA         12.0             high         Cash X-Sell: high            365243.0          -271.0                       59.0       365243.0          365243.0                        1.0\n",
       "3     2819243      176158         Cash loans    47041.335         450000.0    470790.0               NaN         450000.0                     MONDAY                        7                           Y                       1                NaN                    NaN                       NaN                    XNA             Approved           -512  Cash through the bank                XAP              NaN         Repeater                 XNA           Cash            x-sell  Credit and cash offices                -1                  XNA         12.0           middle       Cash X-Sell: middle            365243.0          -482.0                     -152.0         -182.0            -177.0                        1.0\n",
       "4     1784265      202054         Cash loans    31924.395         337500.0    404055.0               NaN         337500.0                   THURSDAY                        9                           Y                       1                NaN                    NaN                       NaN                Repairs              Refused           -781  Cash through the bank                 HC              NaN         Repeater                 XNA           Cash           walk-in  Credit and cash offices                -1                  XNA         24.0             high         Cash Street: high                 NaN             NaN                        NaN            NaN               NaN                        NaN"
      ]
     },
     "execution_count": 53,
     "metadata": {},
     "output_type": "execute_result"
    }
   ],
   "source": [
    "previousDF.head()"
   ]
  },
  {
   "cell_type": "code",
   "execution_count": 54,
   "id": "e8cca3ae",
   "metadata": {},
   "outputs": [
    {
     "data": {
      "text/plain": [
       "(1670214, 37)"
      ]
     },
     "execution_count": 54,
     "metadata": {},
     "output_type": "execute_result"
    }
   ],
   "source": [
    "# inspecting the previousdf\n",
    "\n",
    "previousDF.shape"
   ]
  },
  {
   "cell_type": "code",
   "execution_count": 55,
   "id": "7bdfa804",
   "metadata": {},
   "outputs": [
    {
     "name": "stdout",
     "output_type": "stream",
     "text": [
      "<class 'pandas.core.frame.DataFrame'>\n",
      "RangeIndex: 1670214 entries, 0 to 1670213\n",
      "Data columns (total 37 columns):\n",
      " #   Column                       Non-Null Count    Dtype  \n",
      "---  ------                       --------------    -----  \n",
      " 0   SK_ID_PREV                   1670214 non-null  int64  \n",
      " 1   SK_ID_CURR                   1670214 non-null  int64  \n",
      " 2   NAME_CONTRACT_TYPE           1670214 non-null  object \n",
      " 3   AMT_ANNUITY                  1297979 non-null  float64\n",
      " 4   AMT_APPLICATION              1670214 non-null  float64\n",
      " 5   AMT_CREDIT                   1670213 non-null  float64\n",
      " 6   AMT_DOWN_PAYMENT             774370 non-null   float64\n",
      " 7   AMT_GOODS_PRICE              1284699 non-null  float64\n",
      " 8   WEEKDAY_APPR_PROCESS_START   1670214 non-null  object \n",
      " 9   HOUR_APPR_PROCESS_START      1670214 non-null  int64  \n",
      " 10  FLAG_LAST_APPL_PER_CONTRACT  1670214 non-null  object \n",
      " 11  NFLAG_LAST_APPL_IN_DAY       1670214 non-null  int64  \n",
      " 12  RATE_DOWN_PAYMENT            774370 non-null   float64\n",
      " 13  RATE_INTEREST_PRIMARY        5951 non-null     float64\n",
      " 14  RATE_INTEREST_PRIVILEGED     5951 non-null     float64\n",
      " 15  NAME_CASH_LOAN_PURPOSE       1670214 non-null  object \n",
      " 16  NAME_CONTRACT_STATUS         1670214 non-null  object \n",
      " 17  DAYS_DECISION                1670214 non-null  int64  \n",
      " 18  NAME_PAYMENT_TYPE            1670214 non-null  object \n",
      " 19  CODE_REJECT_REASON           1670214 non-null  object \n",
      " 20  NAME_TYPE_SUITE              849809 non-null   object \n",
      " 21  NAME_CLIENT_TYPE             1670214 non-null  object \n",
      " 22  NAME_GOODS_CATEGORY          1670214 non-null  object \n",
      " 23  NAME_PORTFOLIO               1670214 non-null  object \n",
      " 24  NAME_PRODUCT_TYPE            1670214 non-null  object \n",
      " 25  CHANNEL_TYPE                 1670214 non-null  object \n",
      " 26  SELLERPLACE_AREA             1670214 non-null  int64  \n",
      " 27  NAME_SELLER_INDUSTRY         1670214 non-null  object \n",
      " 28  CNT_PAYMENT                  1297984 non-null  float64\n",
      " 29  NAME_YIELD_GROUP             1670214 non-null  object \n",
      " 30  PRODUCT_COMBINATION          1669868 non-null  object \n",
      " 31  DAYS_FIRST_DRAWING           997149 non-null   float64\n",
      " 32  DAYS_FIRST_DUE               997149 non-null   float64\n",
      " 33  DAYS_LAST_DUE_1ST_VERSION    997149 non-null   float64\n",
      " 34  DAYS_LAST_DUE                997149 non-null   float64\n",
      " 35  DAYS_TERMINATION             997149 non-null   float64\n",
      " 36  NFLAG_INSURED_ON_APPROVAL    997149 non-null   float64\n",
      "dtypes: float64(15), int64(6), object(16)\n",
      "memory usage: 471.5+ MB\n"
     ]
    }
   ],
   "source": [
    "previousDF.info()"
   ]
  },
  {
   "cell_type": "code",
   "execution_count": 56,
   "id": "f24864e0",
   "metadata": {
    "scrolled": false
   },
   "outputs": [
    {
     "data": {
      "text/plain": [
       "SK_ID_PREV                      0.000000\n",
       "SK_ID_CURR                      0.000000\n",
       "NAME_CONTRACT_TYPE              0.000000\n",
       "AMT_ANNUITY                    22.286665\n",
       "AMT_APPLICATION                 0.000000\n",
       "AMT_CREDIT                      0.000060\n",
       "AMT_DOWN_PAYMENT               53.636480\n",
       "AMT_GOODS_PRICE                23.081773\n",
       "WEEKDAY_APPR_PROCESS_START      0.000000\n",
       "HOUR_APPR_PROCESS_START         0.000000\n",
       "FLAG_LAST_APPL_PER_CONTRACT     0.000000\n",
       "NFLAG_LAST_APPL_IN_DAY          0.000000\n",
       "RATE_DOWN_PAYMENT              53.636480\n",
       "RATE_INTEREST_PRIMARY          99.643698\n",
       "RATE_INTEREST_PRIVILEGED       99.643698\n",
       "NAME_CASH_LOAN_PURPOSE          0.000000\n",
       "NAME_CONTRACT_STATUS            0.000000\n",
       "DAYS_DECISION                   0.000000\n",
       "NAME_PAYMENT_TYPE               0.000000\n",
       "CODE_REJECT_REASON              0.000000\n",
       "NAME_TYPE_SUITE                49.119754\n",
       "NAME_CLIENT_TYPE                0.000000\n",
       "NAME_GOODS_CATEGORY             0.000000\n",
       "NAME_PORTFOLIO                  0.000000\n",
       "NAME_PRODUCT_TYPE               0.000000\n",
       "CHANNEL_TYPE                    0.000000\n",
       "SELLERPLACE_AREA                0.000000\n",
       "NAME_SELLER_INDUSTRY            0.000000\n",
       "CNT_PAYMENT                    22.286366\n",
       "NAME_YIELD_GROUP                0.000000\n",
       "PRODUCT_COMBINATION             0.020716\n",
       "DAYS_FIRST_DRAWING             40.298129\n",
       "DAYS_FIRST_DUE                 40.298129\n",
       "DAYS_LAST_DUE_1ST_VERSION      40.298129\n",
       "DAYS_LAST_DUE                  40.298129\n",
       "DAYS_TERMINATION               40.298129\n",
       "NFLAG_INSURED_ON_APPROVAL      40.298129\n",
       "dtype: float64"
      ]
     },
     "execution_count": 56,
     "metadata": {},
     "output_type": "execute_result"
    }
   ],
   "source": [
    "# checking the null value % of each column in previousDF dataframe\n",
    "\n",
    "previousDF.isnull().sum()/previousDF.shape[0]*100"
   ]
  },
  {
   "cell_type": "markdown",
   "id": "dcfbf29f",
   "metadata": {},
   "source": [
    "### Insight:\n",
    "There are many columns in previousDF dataframe where missing value is more than 40%. Let's plot the columns vs missing value % with 40% being the cut-off marks"
   ]
  },
  {
   "cell_type": "code",
   "execution_count": 57,
   "id": "51a6488b",
   "metadata": {},
   "outputs": [
    {
     "data": {
      "text/html": [
       "<div>\n",
       "<style scoped>\n",
       "    .dataframe tbody tr th:only-of-type {\n",
       "        vertical-align: middle;\n",
       "    }\n",
       "\n",
       "    .dataframe tbody tr th {\n",
       "        vertical-align: top;\n",
       "    }\n",
       "\n",
       "    .dataframe thead th {\n",
       "        text-align: right;\n",
       "    }\n",
       "</style>\n",
       "<table border=\"1\" class=\"dataframe\">\n",
       "  <thead>\n",
       "    <tr style=\"text-align: right;\">\n",
       "      <th></th>\n",
       "      <th>index</th>\n",
       "      <th>0</th>\n",
       "    </tr>\n",
       "  </thead>\n",
       "  <tbody>\n",
       "    <tr>\n",
       "      <th>0</th>\n",
       "      <td>SK_ID_PREV</td>\n",
       "      <td>0.000000</td>\n",
       "    </tr>\n",
       "    <tr>\n",
       "      <th>1</th>\n",
       "      <td>SK_ID_CURR</td>\n",
       "      <td>0.000000</td>\n",
       "    </tr>\n",
       "    <tr>\n",
       "      <th>2</th>\n",
       "      <td>NAME_CONTRACT_TYPE</td>\n",
       "      <td>0.000000</td>\n",
       "    </tr>\n",
       "    <tr>\n",
       "      <th>3</th>\n",
       "      <td>AMT_ANNUITY</td>\n",
       "      <td>22.286665</td>\n",
       "    </tr>\n",
       "    <tr>\n",
       "      <th>4</th>\n",
       "      <td>AMT_APPLICATION</td>\n",
       "      <td>0.000000</td>\n",
       "    </tr>\n",
       "    <tr>\n",
       "      <th>5</th>\n",
       "      <td>AMT_CREDIT</td>\n",
       "      <td>0.000060</td>\n",
       "    </tr>\n",
       "    <tr>\n",
       "      <th>6</th>\n",
       "      <td>AMT_DOWN_PAYMENT</td>\n",
       "      <td>53.636480</td>\n",
       "    </tr>\n",
       "    <tr>\n",
       "      <th>7</th>\n",
       "      <td>AMT_GOODS_PRICE</td>\n",
       "      <td>23.081773</td>\n",
       "    </tr>\n",
       "    <tr>\n",
       "      <th>8</th>\n",
       "      <td>WEEKDAY_APPR_PROCESS_START</td>\n",
       "      <td>0.000000</td>\n",
       "    </tr>\n",
       "    <tr>\n",
       "      <th>9</th>\n",
       "      <td>HOUR_APPR_PROCESS_START</td>\n",
       "      <td>0.000000</td>\n",
       "    </tr>\n",
       "    <tr>\n",
       "      <th>10</th>\n",
       "      <td>FLAG_LAST_APPL_PER_CONTRACT</td>\n",
       "      <td>0.000000</td>\n",
       "    </tr>\n",
       "    <tr>\n",
       "      <th>11</th>\n",
       "      <td>NFLAG_LAST_APPL_IN_DAY</td>\n",
       "      <td>0.000000</td>\n",
       "    </tr>\n",
       "    <tr>\n",
       "      <th>12</th>\n",
       "      <td>RATE_DOWN_PAYMENT</td>\n",
       "      <td>53.636480</td>\n",
       "    </tr>\n",
       "    <tr>\n",
       "      <th>13</th>\n",
       "      <td>RATE_INTEREST_PRIMARY</td>\n",
       "      <td>99.643698</td>\n",
       "    </tr>\n",
       "    <tr>\n",
       "      <th>14</th>\n",
       "      <td>RATE_INTEREST_PRIVILEGED</td>\n",
       "      <td>99.643698</td>\n",
       "    </tr>\n",
       "    <tr>\n",
       "      <th>15</th>\n",
       "      <td>NAME_CASH_LOAN_PURPOSE</td>\n",
       "      <td>0.000000</td>\n",
       "    </tr>\n",
       "    <tr>\n",
       "      <th>16</th>\n",
       "      <td>NAME_CONTRACT_STATUS</td>\n",
       "      <td>0.000000</td>\n",
       "    </tr>\n",
       "    <tr>\n",
       "      <th>17</th>\n",
       "      <td>DAYS_DECISION</td>\n",
       "      <td>0.000000</td>\n",
       "    </tr>\n",
       "    <tr>\n",
       "      <th>18</th>\n",
       "      <td>NAME_PAYMENT_TYPE</td>\n",
       "      <td>0.000000</td>\n",
       "    </tr>\n",
       "    <tr>\n",
       "      <th>19</th>\n",
       "      <td>CODE_REJECT_REASON</td>\n",
       "      <td>0.000000</td>\n",
       "    </tr>\n",
       "    <tr>\n",
       "      <th>20</th>\n",
       "      <td>NAME_TYPE_SUITE</td>\n",
       "      <td>49.119754</td>\n",
       "    </tr>\n",
       "    <tr>\n",
       "      <th>21</th>\n",
       "      <td>NAME_CLIENT_TYPE</td>\n",
       "      <td>0.000000</td>\n",
       "    </tr>\n",
       "    <tr>\n",
       "      <th>22</th>\n",
       "      <td>NAME_GOODS_CATEGORY</td>\n",
       "      <td>0.000000</td>\n",
       "    </tr>\n",
       "    <tr>\n",
       "      <th>23</th>\n",
       "      <td>NAME_PORTFOLIO</td>\n",
       "      <td>0.000000</td>\n",
       "    </tr>\n",
       "    <tr>\n",
       "      <th>24</th>\n",
       "      <td>NAME_PRODUCT_TYPE</td>\n",
       "      <td>0.000000</td>\n",
       "    </tr>\n",
       "    <tr>\n",
       "      <th>25</th>\n",
       "      <td>CHANNEL_TYPE</td>\n",
       "      <td>0.000000</td>\n",
       "    </tr>\n",
       "    <tr>\n",
       "      <th>26</th>\n",
       "      <td>SELLERPLACE_AREA</td>\n",
       "      <td>0.000000</td>\n",
       "    </tr>\n",
       "    <tr>\n",
       "      <th>27</th>\n",
       "      <td>NAME_SELLER_INDUSTRY</td>\n",
       "      <td>0.000000</td>\n",
       "    </tr>\n",
       "    <tr>\n",
       "      <th>28</th>\n",
       "      <td>CNT_PAYMENT</td>\n",
       "      <td>22.286366</td>\n",
       "    </tr>\n",
       "    <tr>\n",
       "      <th>29</th>\n",
       "      <td>NAME_YIELD_GROUP</td>\n",
       "      <td>0.000000</td>\n",
       "    </tr>\n",
       "    <tr>\n",
       "      <th>30</th>\n",
       "      <td>PRODUCT_COMBINATION</td>\n",
       "      <td>0.020716</td>\n",
       "    </tr>\n",
       "    <tr>\n",
       "      <th>31</th>\n",
       "      <td>DAYS_FIRST_DRAWING</td>\n",
       "      <td>40.298129</td>\n",
       "    </tr>\n",
       "    <tr>\n",
       "      <th>32</th>\n",
       "      <td>DAYS_FIRST_DUE</td>\n",
       "      <td>40.298129</td>\n",
       "    </tr>\n",
       "    <tr>\n",
       "      <th>33</th>\n",
       "      <td>DAYS_LAST_DUE_1ST_VERSION</td>\n",
       "      <td>40.298129</td>\n",
       "    </tr>\n",
       "    <tr>\n",
       "      <th>34</th>\n",
       "      <td>DAYS_LAST_DUE</td>\n",
       "      <td>40.298129</td>\n",
       "    </tr>\n",
       "    <tr>\n",
       "      <th>35</th>\n",
       "      <td>DAYS_TERMINATION</td>\n",
       "      <td>40.298129</td>\n",
       "    </tr>\n",
       "    <tr>\n",
       "      <th>36</th>\n",
       "      <td>NFLAG_INSURED_ON_APPROVAL</td>\n",
       "      <td>40.298129</td>\n",
       "    </tr>\n",
       "  </tbody>\n",
       "</table>\n",
       "</div>"
      ],
      "text/plain": [
       "                          index          0\n",
       "0                    SK_ID_PREV   0.000000\n",
       "1                    SK_ID_CURR   0.000000\n",
       "2            NAME_CONTRACT_TYPE   0.000000\n",
       "3                   AMT_ANNUITY  22.286665\n",
       "4               AMT_APPLICATION   0.000000\n",
       "5                    AMT_CREDIT   0.000060\n",
       "6              AMT_DOWN_PAYMENT  53.636480\n",
       "7               AMT_GOODS_PRICE  23.081773\n",
       "8    WEEKDAY_APPR_PROCESS_START   0.000000\n",
       "9       HOUR_APPR_PROCESS_START   0.000000\n",
       "10  FLAG_LAST_APPL_PER_CONTRACT   0.000000\n",
       "11       NFLAG_LAST_APPL_IN_DAY   0.000000\n",
       "12            RATE_DOWN_PAYMENT  53.636480\n",
       "13        RATE_INTEREST_PRIMARY  99.643698\n",
       "14     RATE_INTEREST_PRIVILEGED  99.643698\n",
       "15       NAME_CASH_LOAN_PURPOSE   0.000000\n",
       "16         NAME_CONTRACT_STATUS   0.000000\n",
       "17                DAYS_DECISION   0.000000\n",
       "18            NAME_PAYMENT_TYPE   0.000000\n",
       "19           CODE_REJECT_REASON   0.000000\n",
       "20              NAME_TYPE_SUITE  49.119754\n",
       "21             NAME_CLIENT_TYPE   0.000000\n",
       "22          NAME_GOODS_CATEGORY   0.000000\n",
       "23               NAME_PORTFOLIO   0.000000\n",
       "24            NAME_PRODUCT_TYPE   0.000000\n",
       "25                 CHANNEL_TYPE   0.000000\n",
       "26             SELLERPLACE_AREA   0.000000\n",
       "27         NAME_SELLER_INDUSTRY   0.000000\n",
       "28                  CNT_PAYMENT  22.286366\n",
       "29             NAME_YIELD_GROUP   0.000000\n",
       "30          PRODUCT_COMBINATION   0.020716\n",
       "31           DAYS_FIRST_DRAWING  40.298129\n",
       "32               DAYS_FIRST_DUE  40.298129\n",
       "33    DAYS_LAST_DUE_1ST_VERSION  40.298129\n",
       "34                DAYS_LAST_DUE  40.298129\n",
       "35             DAYS_TERMINATION  40.298129\n",
       "36    NFLAG_INSURED_ON_APPROVAL  40.298129"
      ]
     },
     "execution_count": 57,
     "metadata": {},
     "output_type": "execute_result"
    }
   ],
   "source": [
    "null_previousDF = pd.DataFrame((previousDF.isnull().sum())*100/previousDF.shape[0]).reset_index()\n",
    "null_previousDF"
   ]
  },
  {
   "cell_type": "code",
   "execution_count": 58,
   "id": "c8e4bbc0",
   "metadata": {},
   "outputs": [
    {
     "data": {
      "text/html": [
       "<div>\n",
       "<style scoped>\n",
       "    .dataframe tbody tr th:only-of-type {\n",
       "        vertical-align: middle;\n",
       "    }\n",
       "\n",
       "    .dataframe tbody tr th {\n",
       "        vertical-align: top;\n",
       "    }\n",
       "\n",
       "    .dataframe thead th {\n",
       "        text-align: right;\n",
       "    }\n",
       "</style>\n",
       "<table border=\"1\" class=\"dataframe\">\n",
       "  <thead>\n",
       "    <tr style=\"text-align: right;\">\n",
       "      <th></th>\n",
       "      <th>Column Name</th>\n",
       "      <th>Null Value Percentage</th>\n",
       "    </tr>\n",
       "  </thead>\n",
       "  <tbody>\n",
       "    <tr>\n",
       "      <th>0</th>\n",
       "      <td>SK_ID_PREV</td>\n",
       "      <td>0.000000</td>\n",
       "    </tr>\n",
       "    <tr>\n",
       "      <th>1</th>\n",
       "      <td>SK_ID_CURR</td>\n",
       "      <td>0.000000</td>\n",
       "    </tr>\n",
       "    <tr>\n",
       "      <th>2</th>\n",
       "      <td>NAME_CONTRACT_TYPE</td>\n",
       "      <td>0.000000</td>\n",
       "    </tr>\n",
       "    <tr>\n",
       "      <th>3</th>\n",
       "      <td>AMT_ANNUITY</td>\n",
       "      <td>22.286665</td>\n",
       "    </tr>\n",
       "    <tr>\n",
       "      <th>4</th>\n",
       "      <td>AMT_APPLICATION</td>\n",
       "      <td>0.000000</td>\n",
       "    </tr>\n",
       "    <tr>\n",
       "      <th>5</th>\n",
       "      <td>AMT_CREDIT</td>\n",
       "      <td>0.000060</td>\n",
       "    </tr>\n",
       "    <tr>\n",
       "      <th>6</th>\n",
       "      <td>AMT_DOWN_PAYMENT</td>\n",
       "      <td>53.636480</td>\n",
       "    </tr>\n",
       "    <tr>\n",
       "      <th>7</th>\n",
       "      <td>AMT_GOODS_PRICE</td>\n",
       "      <td>23.081773</td>\n",
       "    </tr>\n",
       "    <tr>\n",
       "      <th>8</th>\n",
       "      <td>WEEKDAY_APPR_PROCESS_START</td>\n",
       "      <td>0.000000</td>\n",
       "    </tr>\n",
       "    <tr>\n",
       "      <th>9</th>\n",
       "      <td>HOUR_APPR_PROCESS_START</td>\n",
       "      <td>0.000000</td>\n",
       "    </tr>\n",
       "    <tr>\n",
       "      <th>10</th>\n",
       "      <td>FLAG_LAST_APPL_PER_CONTRACT</td>\n",
       "      <td>0.000000</td>\n",
       "    </tr>\n",
       "    <tr>\n",
       "      <th>11</th>\n",
       "      <td>NFLAG_LAST_APPL_IN_DAY</td>\n",
       "      <td>0.000000</td>\n",
       "    </tr>\n",
       "    <tr>\n",
       "      <th>12</th>\n",
       "      <td>RATE_DOWN_PAYMENT</td>\n",
       "      <td>53.636480</td>\n",
       "    </tr>\n",
       "    <tr>\n",
       "      <th>13</th>\n",
       "      <td>RATE_INTEREST_PRIMARY</td>\n",
       "      <td>99.643698</td>\n",
       "    </tr>\n",
       "    <tr>\n",
       "      <th>14</th>\n",
       "      <td>RATE_INTEREST_PRIVILEGED</td>\n",
       "      <td>99.643698</td>\n",
       "    </tr>\n",
       "    <tr>\n",
       "      <th>15</th>\n",
       "      <td>NAME_CASH_LOAN_PURPOSE</td>\n",
       "      <td>0.000000</td>\n",
       "    </tr>\n",
       "    <tr>\n",
       "      <th>16</th>\n",
       "      <td>NAME_CONTRACT_STATUS</td>\n",
       "      <td>0.000000</td>\n",
       "    </tr>\n",
       "    <tr>\n",
       "      <th>17</th>\n",
       "      <td>DAYS_DECISION</td>\n",
       "      <td>0.000000</td>\n",
       "    </tr>\n",
       "    <tr>\n",
       "      <th>18</th>\n",
       "      <td>NAME_PAYMENT_TYPE</td>\n",
       "      <td>0.000000</td>\n",
       "    </tr>\n",
       "    <tr>\n",
       "      <th>19</th>\n",
       "      <td>CODE_REJECT_REASON</td>\n",
       "      <td>0.000000</td>\n",
       "    </tr>\n",
       "    <tr>\n",
       "      <th>20</th>\n",
       "      <td>NAME_TYPE_SUITE</td>\n",
       "      <td>49.119754</td>\n",
       "    </tr>\n",
       "    <tr>\n",
       "      <th>21</th>\n",
       "      <td>NAME_CLIENT_TYPE</td>\n",
       "      <td>0.000000</td>\n",
       "    </tr>\n",
       "    <tr>\n",
       "      <th>22</th>\n",
       "      <td>NAME_GOODS_CATEGORY</td>\n",
       "      <td>0.000000</td>\n",
       "    </tr>\n",
       "    <tr>\n",
       "      <th>23</th>\n",
       "      <td>NAME_PORTFOLIO</td>\n",
       "      <td>0.000000</td>\n",
       "    </tr>\n",
       "    <tr>\n",
       "      <th>24</th>\n",
       "      <td>NAME_PRODUCT_TYPE</td>\n",
       "      <td>0.000000</td>\n",
       "    </tr>\n",
       "    <tr>\n",
       "      <th>25</th>\n",
       "      <td>CHANNEL_TYPE</td>\n",
       "      <td>0.000000</td>\n",
       "    </tr>\n",
       "    <tr>\n",
       "      <th>26</th>\n",
       "      <td>SELLERPLACE_AREA</td>\n",
       "      <td>0.000000</td>\n",
       "    </tr>\n",
       "    <tr>\n",
       "      <th>27</th>\n",
       "      <td>NAME_SELLER_INDUSTRY</td>\n",
       "      <td>0.000000</td>\n",
       "    </tr>\n",
       "    <tr>\n",
       "      <th>28</th>\n",
       "      <td>CNT_PAYMENT</td>\n",
       "      <td>22.286366</td>\n",
       "    </tr>\n",
       "    <tr>\n",
       "      <th>29</th>\n",
       "      <td>NAME_YIELD_GROUP</td>\n",
       "      <td>0.000000</td>\n",
       "    </tr>\n",
       "    <tr>\n",
       "      <th>30</th>\n",
       "      <td>PRODUCT_COMBINATION</td>\n",
       "      <td>0.020716</td>\n",
       "    </tr>\n",
       "    <tr>\n",
       "      <th>31</th>\n",
       "      <td>DAYS_FIRST_DRAWING</td>\n",
       "      <td>40.298129</td>\n",
       "    </tr>\n",
       "    <tr>\n",
       "      <th>32</th>\n",
       "      <td>DAYS_FIRST_DUE</td>\n",
       "      <td>40.298129</td>\n",
       "    </tr>\n",
       "    <tr>\n",
       "      <th>33</th>\n",
       "      <td>DAYS_LAST_DUE_1ST_VERSION</td>\n",
       "      <td>40.298129</td>\n",
       "    </tr>\n",
       "    <tr>\n",
       "      <th>34</th>\n",
       "      <td>DAYS_LAST_DUE</td>\n",
       "      <td>40.298129</td>\n",
       "    </tr>\n",
       "    <tr>\n",
       "      <th>35</th>\n",
       "      <td>DAYS_TERMINATION</td>\n",
       "      <td>40.298129</td>\n",
       "    </tr>\n",
       "    <tr>\n",
       "      <th>36</th>\n",
       "      <td>NFLAG_INSURED_ON_APPROVAL</td>\n",
       "      <td>40.298129</td>\n",
       "    </tr>\n",
       "  </tbody>\n",
       "</table>\n",
       "</div>"
      ],
      "text/plain": [
       "                    Column Name  Null Value Percentage\n",
       "0                    SK_ID_PREV               0.000000\n",
       "1                    SK_ID_CURR               0.000000\n",
       "2            NAME_CONTRACT_TYPE               0.000000\n",
       "3                   AMT_ANNUITY              22.286665\n",
       "4               AMT_APPLICATION               0.000000\n",
       "5                    AMT_CREDIT               0.000060\n",
       "6              AMT_DOWN_PAYMENT              53.636480\n",
       "7               AMT_GOODS_PRICE              23.081773\n",
       "8    WEEKDAY_APPR_PROCESS_START               0.000000\n",
       "9       HOUR_APPR_PROCESS_START               0.000000\n",
       "10  FLAG_LAST_APPL_PER_CONTRACT               0.000000\n",
       "11       NFLAG_LAST_APPL_IN_DAY               0.000000\n",
       "12            RATE_DOWN_PAYMENT              53.636480\n",
       "13        RATE_INTEREST_PRIMARY              99.643698\n",
       "14     RATE_INTEREST_PRIVILEGED              99.643698\n",
       "15       NAME_CASH_LOAN_PURPOSE               0.000000\n",
       "16         NAME_CONTRACT_STATUS               0.000000\n",
       "17                DAYS_DECISION               0.000000\n",
       "18            NAME_PAYMENT_TYPE               0.000000\n",
       "19           CODE_REJECT_REASON               0.000000\n",
       "20              NAME_TYPE_SUITE              49.119754\n",
       "21             NAME_CLIENT_TYPE               0.000000\n",
       "22          NAME_GOODS_CATEGORY               0.000000\n",
       "23               NAME_PORTFOLIO               0.000000\n",
       "24            NAME_PRODUCT_TYPE               0.000000\n",
       "25                 CHANNEL_TYPE               0.000000\n",
       "26             SELLERPLACE_AREA               0.000000\n",
       "27         NAME_SELLER_INDUSTRY               0.000000\n",
       "28                  CNT_PAYMENT              22.286366\n",
       "29             NAME_YIELD_GROUP               0.000000\n",
       "30          PRODUCT_COMBINATION               0.020716\n",
       "31           DAYS_FIRST_DRAWING              40.298129\n",
       "32               DAYS_FIRST_DUE              40.298129\n",
       "33    DAYS_LAST_DUE_1ST_VERSION              40.298129\n",
       "34                DAYS_LAST_DUE              40.298129\n",
       "35             DAYS_TERMINATION              40.298129\n",
       "36    NFLAG_INSURED_ON_APPROVAL              40.298129"
      ]
     },
     "execution_count": 58,
     "metadata": {},
     "output_type": "execute_result"
    }
   ],
   "source": [
    "null_previousDF.columns = ['Column Name', 'Null Value Percentage']\n",
    "null_previousDF"
   ]
  },
  {
   "cell_type": "code",
   "execution_count": 59,
   "id": "30a92155",
   "metadata": {},
   "outputs": [
    {
     "data": {
      "image/png": "[encoded data removed]",
      "text/plain": [
       "<Figure size 1152x432 with 1 Axes>"
      ]
     },
     "metadata": {
      "needs_background": "light"
     },
     "output_type": "display_data"
    }
   ],
   "source": [
    "null_previousDF = pd.DataFrame( (previousDF.isnull().sum())*100/previousDF.shape[0] ).reset_index()\n",
    "null_previousDF.columns = ['Column Name', 'Null Values Percentage']\n",
    "\n",
    "fig = plt.figure(figsize=[16,6])\n",
    "ax = sns.pointplot(x ='Column Name', y ='Null Values Percentage', data=null_previousDF, color ='blue')\n",
    "\n",
    "plt.xticks(rotation =90,fontsize =8)\n",
    "ax.axhline(40, ls='--',color='red')\n",
    "\n",
    "plt.title('Percentage of Missing values in previousDF data')\n",
    "plt.xlabel('COLUMNS')\n",
    "plt.ylabel('Null Values PERCENTAGE')\n",
    "plt.show()"
   ]
  },
  {
   "cell_type": "markdown",
   "id": "4602f75a",
   "metadata": {},
   "source": [
    "### Insight:\n",
    "From the plot we can see the columns in which percentage of null values more than 40% are marked above the red line and the columns which have less than 40 % null values below the red line. Let's check the columns which has more than 40% missing values"
   ]
  },
  {
   "cell_type": "code",
   "execution_count": 60,
   "id": "c4ba1e6a",
   "metadata": {},
   "outputs": [
    {
     "data": {
      "text/html": [
       "<div>\n",
       "<style scoped>\n",
       "    .dataframe tbody tr th:only-of-type {\n",
       "        vertical-align: middle;\n",
       "    }\n",
       "\n",
       "    .dataframe tbody tr th {\n",
       "        vertical-align: top;\n",
       "    }\n",
       "\n",
       "    .dataframe thead th {\n",
       "        text-align: right;\n",
       "    }\n",
       "</style>\n",
       "<table border=\"1\" class=\"dataframe\">\n",
       "  <thead>\n",
       "    <tr style=\"text-align: right;\">\n",
       "      <th></th>\n",
       "      <th>Column Name</th>\n",
       "      <th>Null Values Percentage</th>\n",
       "    </tr>\n",
       "  </thead>\n",
       "  <tbody>\n",
       "    <tr>\n",
       "      <th>6</th>\n",
       "      <td>AMT_DOWN_PAYMENT</td>\n",
       "      <td>53.636480</td>\n",
       "    </tr>\n",
       "    <tr>\n",
       "      <th>12</th>\n",
       "      <td>RATE_DOWN_PAYMENT</td>\n",
       "      <td>53.636480</td>\n",
       "    </tr>\n",
       "    <tr>\n",
       "      <th>13</th>\n",
       "      <td>RATE_INTEREST_PRIMARY</td>\n",
       "      <td>99.643698</td>\n",
       "    </tr>\n",
       "    <tr>\n",
       "      <th>14</th>\n",
       "      <td>RATE_INTEREST_PRIVILEGED</td>\n",
       "      <td>99.643698</td>\n",
       "    </tr>\n",
       "    <tr>\n",
       "      <th>20</th>\n",
       "      <td>NAME_TYPE_SUITE</td>\n",
       "      <td>49.119754</td>\n",
       "    </tr>\n",
       "    <tr>\n",
       "      <th>31</th>\n",
       "      <td>DAYS_FIRST_DRAWING</td>\n",
       "      <td>40.298129</td>\n",
       "    </tr>\n",
       "    <tr>\n",
       "      <th>32</th>\n",
       "      <td>DAYS_FIRST_DUE</td>\n",
       "      <td>40.298129</td>\n",
       "    </tr>\n",
       "    <tr>\n",
       "      <th>33</th>\n",
       "      <td>DAYS_LAST_DUE_1ST_VERSION</td>\n",
       "      <td>40.298129</td>\n",
       "    </tr>\n",
       "    <tr>\n",
       "      <th>34</th>\n",
       "      <td>DAYS_LAST_DUE</td>\n",
       "      <td>40.298129</td>\n",
       "    </tr>\n",
       "    <tr>\n",
       "      <th>35</th>\n",
       "      <td>DAYS_TERMINATION</td>\n",
       "      <td>40.298129</td>\n",
       "    </tr>\n",
       "    <tr>\n",
       "      <th>36</th>\n",
       "      <td>NFLAG_INSURED_ON_APPROVAL</td>\n",
       "      <td>40.298129</td>\n",
       "    </tr>\n",
       "  </tbody>\n",
       "</table>\n",
       "</div>"
      ],
      "text/plain": [
       "                  Column Name  Null Values Percentage\n",
       "6            AMT_DOWN_PAYMENT               53.636480\n",
       "12          RATE_DOWN_PAYMENT               53.636480\n",
       "13      RATE_INTEREST_PRIMARY               99.643698\n",
       "14   RATE_INTEREST_PRIVILEGED               99.643698\n",
       "20            NAME_TYPE_SUITE               49.119754\n",
       "31         DAYS_FIRST_DRAWING               40.298129\n",
       "32             DAYS_FIRST_DUE               40.298129\n",
       "33  DAYS_LAST_DUE_1ST_VERSION               40.298129\n",
       "34              DAYS_LAST_DUE               40.298129\n",
       "35           DAYS_TERMINATION               40.298129\n",
       "36  NFLAG_INSURED_ON_APPROVAL               40.298129"
      ]
     },
     "execution_count": 60,
     "metadata": {},
     "output_type": "execute_result"
    }
   ],
   "source": [
    "# more than or equal to 40% empty rows columns\n",
    "nullcol_40_previous = null_previousDF[null_previousDF[\"Null Values Percentage\"]>=40]\n",
    "nullcol_40_previous"
   ]
  },
  {
   "cell_type": "code",
   "execution_count": 61,
   "id": "aebbbac9",
   "metadata": {},
   "outputs": [
    {
     "data": {
      "text/plain": [
       "11"
      ]
     },
     "execution_count": 61,
     "metadata": {},
     "output_type": "execute_result"
    }
   ],
   "source": [
    "# How many columns have more than or euqal to 40% null values ?\n",
    "len(nullcol_40_previous)"
   ]
  },
  {
   "cell_type": "markdown",
   "id": "0850b4aa",
   "metadata": {},
   "source": [
    "### Insight:\n",
    "Total of 11 columns are there which have more than 40% null values. These columns can be deleted. "
   ]
  },
  {
   "cell_type": "code",
   "execution_count": 62,
   "id": "eec623e5",
   "metadata": {},
   "outputs": [],
   "source": [
    "#  Dropping the unnecessary columns from previousDF\n",
    "previousDF.drop(labels = nullcol_40_previous[\"Column Name\"], axis=1, inplace=True)"
   ]
  },
  {
   "cell_type": "code",
   "execution_count": 63,
   "id": "3e79bd81",
   "metadata": {},
   "outputs": [
    {
     "data": {
      "text/plain": [
       "(1670214, 26)"
      ]
     },
     "execution_count": 63,
     "metadata": {},
     "output_type": "execute_result"
    }
   ],
   "source": [
    "# Confirming columns with more than 40% of missing values have been dropped\n",
    "previousDF.shape"
   ]
  },
  {
   "cell_type": "code",
   "execution_count": 64,
   "id": "cdda2d98",
   "metadata": {},
   "outputs": [
    {
     "name": "stdout",
     "output_type": "stream",
     "text": [
      "<class 'pandas.core.frame.DataFrame'>\n",
      "RangeIndex: 1670214 entries, 0 to 1670213\n",
      "Data columns (total 26 columns):\n",
      " #   Column                       Non-Null Count    Dtype  \n",
      "---  ------                       --------------    -----  \n",
      " 0   SK_ID_PREV                   1670214 non-null  int64  \n",
      " 1   SK_ID_CURR                   1670214 non-null  int64  \n",
      " 2   NAME_CONTRACT_TYPE           1670214 non-null  object \n",
      " 3   AMT_ANNUITY                  1297979 non-null  float64\n",
      " 4   AMT_APPLICATION              1670214 non-null  float64\n",
      " 5   AMT_CREDIT                   1670213 non-null  float64\n",
      " 6   AMT_GOODS_PRICE              1284699 non-null  float64\n",
      " 7   WEEKDAY_APPR_PROCESS_START   1670214 non-null  object \n",
      " 8   HOUR_APPR_PROCESS_START      1670214 non-null  int64  \n",
      " 9   FLAG_LAST_APPL_PER_CONTRACT  1670214 non-null  object \n",
      " 10  NFLAG_LAST_APPL_IN_DAY       1670214 non-null  int64  \n",
      " 11  NAME_CASH_LOAN_PURPOSE       1670214 non-null  object \n",
      " 12  NAME_CONTRACT_STATUS         1670214 non-null  object \n",
      " 13  DAYS_DECISION                1670214 non-null  int64  \n",
      " 14  NAME_PAYMENT_TYPE            1670214 non-null  object \n",
      " 15  CODE_REJECT_REASON           1670214 non-null  object \n",
      " 16  NAME_CLIENT_TYPE             1670214 non-null  object \n",
      " 17  NAME_GOODS_CATEGORY          1670214 non-null  object \n",
      " 18  NAME_PORTFOLIO               1670214 non-null  object \n",
      " 19  NAME_PRODUCT_TYPE            1670214 non-null  object \n",
      " 20  CHANNEL_TYPE                 1670214 non-null  object \n",
      " 21  SELLERPLACE_AREA             1670214 non-null  int64  \n",
      " 22  NAME_SELLER_INDUSTRY         1670214 non-null  object \n",
      " 23  CNT_PAYMENT                  1297984 non-null  float64\n",
      " 24  NAME_YIELD_GROUP             1670214 non-null  object \n",
      " 25  PRODUCT_COMBINATION          1669868 non-null  object \n",
      "dtypes: float64(5), int64(6), object(15)\n",
      "memory usage: 331.3+ MB\n"
     ]
    }
   ],
   "source": [
    "# inspecting the column types after after removal of unnecessary columns\n",
    "\n",
    "previousDF.info()"
   ]
  },
  {
   "cell_type": "markdown",
   "id": "918db2db",
   "metadata": {},
   "source": [
    "### Insight:\n",
    "After deleting unnecessary columns, there are 26 columns remaining in previousDF"
   ]
  },
  {
   "cell_type": "markdown",
   "id": "188b8968",
   "metadata": {},
   "source": [
    "###  Standardize Values for previousDF"
   ]
  },
  {
   "cell_type": "markdown",
   "id": "337b9782",
   "metadata": {},
   "source": [
    "#### Strategy for previousDF:\n",
    "- Convert DAYS_DECISION from negative to positive values and create categorical bins columns.\n",
    "- Convert loan purpose and few other columns to categorical."
   ]
  },
  {
   "cell_type": "code",
   "execution_count": 65,
   "id": "3befcfb4",
   "metadata": {},
   "outputs": [
    {
     "data": {
      "text/plain": [
       "FLAG_LAST_APPL_PER_CONTRACT          2\n",
       "NFLAG_LAST_APPL_IN_DAY               2\n",
       "NAME_PRODUCT_TYPE                    3\n",
       "NAME_CONTRACT_STATUS                 4\n",
       "NAME_CONTRACT_TYPE                   4\n",
       "NAME_CLIENT_TYPE                     4\n",
       "NAME_PAYMENT_TYPE                    4\n",
       "NAME_PORTFOLIO                       5\n",
       "NAME_YIELD_GROUP                     5\n",
       "WEEKDAY_APPR_PROCESS_START           7\n",
       "CHANNEL_TYPE                         8\n",
       "CODE_REJECT_REASON                   9\n",
       "NAME_SELLER_INDUSTRY                11\n",
       "PRODUCT_COMBINATION                 17\n",
       "HOUR_APPR_PROCESS_START             24\n",
       "NAME_CASH_LOAN_PURPOSE              25\n",
       "NAME_GOODS_CATEGORY                 28\n",
       "CNT_PAYMENT                         49\n",
       "SELLERPLACE_AREA                  2097\n",
       "DAYS_DECISION                     2922\n",
       "AMT_CREDIT                       86803\n",
       "AMT_GOODS_PRICE                  93885\n",
       "AMT_APPLICATION                  93885\n",
       "SK_ID_CURR                      338857\n",
       "AMT_ANNUITY                     357959\n",
       "SK_ID_PREV                     1670214\n",
       "dtype: int64"
      ]
     },
     "execution_count": 65,
     "metadata": {},
     "output_type": "execute_result"
    }
   ],
   "source": [
    "#Checking the number of unique values each column possess to identify categorical columns\n",
    "previousDF.nunique().sort_values()"
   ]
  },
  {
   "cell_type": "code",
   "execution_count": 66,
   "id": "d81d1e96",
   "metadata": {},
   "outputs": [],
   "source": [
    "#Converting negative days to positive days \n",
    "previousDF['DAYS_DECISION'] = abs(previousDF['DAYS_DECISION'])"
   ]
  },
  {
   "cell_type": "code",
   "execution_count": 67,
   "id": "9e9ccab8",
   "metadata": {},
   "outputs": [
    {
     "data": {
      "text/plain": [
       "2922"
      ]
     },
     "execution_count": 67,
     "metadata": {},
     "output_type": "execute_result"
    }
   ],
   "source": [
    "# max value of Days_Decision\n",
    "max(previousDF['DAYS_DECISION'])"
   ]
  },
  {
   "cell_type": "code",
   "execution_count": 68,
   "id": "dd06e718",
   "metadata": {},
   "outputs": [],
   "source": [
    "bins = [0,400,800,1200,1600,2000,2400,2800,3200]\n",
    "slots = ['0-400', '400-800', '800-1200', '1200-1600', '1600-2000', '2000-2400', '2400-2800', '2800-3200']\n",
    "\n",
    "previousDF['DAYS_DECISION_GROUP'] = pd.cut(previousDF['DAYS_DECISION'], bins, labels=slots)"
   ]
  },
  {
   "cell_type": "code",
   "execution_count": 69,
   "id": "1166e4ab",
   "metadata": {},
   "outputs": [
    {
     "data": {
      "text/plain": [
       "0-400        37.574526\n",
       "400-800      22.900299\n",
       "800-1200     12.426012\n",
       "1200-1600     7.899646\n",
       "2400-2800     6.292188\n",
       "1600-2000     5.791174\n",
       "2000-2400     5.689750\n",
       "2800-3200     1.426404\n",
       "Name: DAYS_DECISION_GROUP, dtype: float64"
      ]
     },
     "execution_count": 69,
     "metadata": {},
     "output_type": "execute_result"
    }
   ],
   "source": [
    "previousDF['DAYS_DECISION_GROUP'].value_counts(normalize=True)*100"
   ]
  },
  {
   "cell_type": "markdown",
   "id": "e7db8c99",
   "metadata": {},
   "source": [
    "### Insight:\n",
    "- Almost 37% loan applicatants have applied for a new loan within 0-400 days of previous loan decision"
   ]
  },
  {
   "cell_type": "code",
   "execution_count": 70,
   "id": "78fdf017",
   "metadata": {},
   "outputs": [],
   "source": [
    "#Converting Categorical columns from Object to categorical \n",
    "Catgorical_col_p = ['NAME_CASH_LOAN_PURPOSE','NAME_CONTRACT_STATUS','NAME_PAYMENT_TYPE',\n",
    "                    'CODE_REJECT_REASON','NAME_CLIENT_TYPE','NAME_GOODS_CATEGORY','NAME_PORTFOLIO',\n",
    "                   'NAME_PRODUCT_TYPE','CHANNEL_TYPE','NAME_SELLER_INDUSTRY','NAME_YIELD_GROUP','PRODUCT_COMBINATION',\n",
    "                    'NAME_CONTRACT_TYPE','DAYS_DECISION_GROUP']\n",
    "\n",
    "for col in Catgorical_col_p:\n",
    "    previousDF[col] =pd.Categorical(previousDF[col])"
   ]
  },
  {
   "cell_type": "code",
   "execution_count": 71,
   "id": "31541ab5",
   "metadata": {},
   "outputs": [
    {
     "name": "stdout",
     "output_type": "stream",
     "text": [
      "<class 'pandas.core.frame.DataFrame'>\n",
      "RangeIndex: 1670214 entries, 0 to 1670213\n",
      "Data columns (total 27 columns):\n",
      " #   Column                       Non-Null Count    Dtype   \n",
      "---  ------                       --------------    -----   \n",
      " 0   SK_ID_PREV                   1670214 non-null  int64   \n",
      " 1   SK_ID_CURR                   1670214 non-null  int64   \n",
      " 2   NAME_CONTRACT_TYPE           1670214 non-null  category\n",
      " 3   AMT_ANNUITY                  1297979 non-null  float64 \n",
      " 4   AMT_APPLICATION              1670214 non-null  float64 \n",
      " 5   AMT_CREDIT                   1670213 non-null  float64 \n",
      " 6   AMT_GOODS_PRICE              1284699 non-null  float64 \n",
      " 7   WEEKDAY_APPR_PROCESS_START   1670214 non-null  object  \n",
      " 8   HOUR_APPR_PROCESS_START      1670214 non-null  int64   \n",
      " 9   FLAG_LAST_APPL_PER_CONTRACT  1670214 non-null  object  \n",
      " 10  NFLAG_LAST_APPL_IN_DAY       1670214 non-null  int64   \n",
      " 11  NAME_CASH_LOAN_PURPOSE       1670214 non-null  category\n",
      " 12  NAME_CONTRACT_STATUS         1670214 non-null  category\n",
      " 13  DAYS_DECISION                1670214 non-null  int64   \n",
      " 14  NAME_PAYMENT_TYPE            1670214 non-null  category\n",
      " 15  CODE_REJECT_REASON           1670214 non-null  category\n",
      " 16  NAME_CLIENT_TYPE             1670214 non-null  category\n",
      " 17  NAME_GOODS_CATEGORY          1670214 non-null  category\n",
      " 18  NAME_PORTFOLIO               1670214 non-null  category\n",
      " 19  NAME_PRODUCT_TYPE            1670214 non-null  category\n",
      " 20  CHANNEL_TYPE                 1670214 non-null  category\n",
      " 21  SELLERPLACE_AREA             1670214 non-null  int64   \n",
      " 22  NAME_SELLER_INDUSTRY         1670214 non-null  category\n",
      " 23  CNT_PAYMENT                  1297984 non-null  float64 \n",
      " 24  NAME_YIELD_GROUP             1670214 non-null  category\n",
      " 25  PRODUCT_COMBINATION          1669868 non-null  category\n",
      " 26  DAYS_DECISION_GROUP          1670214 non-null  category\n",
      "dtypes: category(14), float64(5), int64(6), object(2)\n",
      "memory usage: 188.0+ MB\n"
     ]
    }
   ],
   "source": [
    "# inspecting the column types after conversion\n",
    "previousDF.info()"
   ]
  },
  {
   "cell_type": "markdown",
   "id": "4b36c8ff",
   "metadata": {},
   "source": [
    "## Imputing Null Values in previousDF\n",
    "\n",
    "### Strategy for applicationDF:\n",
    "- To impute null values in numerical column, we analysed the loan status and assigned values.\n",
    "- To impute null values in continuous variables, we plotted the distribution of the columns and used\n",
    "- median if the distribution is skewed\n",
    "- mode if the distribution pattern is preserved."
   ]
  },
  {
   "cell_type": "code",
   "execution_count": 72,
   "id": "89c2522c",
   "metadata": {},
   "outputs": [
    {
     "data": {
      "text/plain": [
       "SK_ID_PREV                      0.000000\n",
       "SK_ID_CURR                      0.000000\n",
       "NAME_CONTRACT_TYPE              0.000000\n",
       "AMT_ANNUITY                    22.286665\n",
       "AMT_APPLICATION                 0.000000\n",
       "AMT_CREDIT                      0.000060\n",
       "AMT_GOODS_PRICE                23.081773\n",
       "WEEKDAY_APPR_PROCESS_START      0.000000\n",
       "HOUR_APPR_PROCESS_START         0.000000\n",
       "FLAG_LAST_APPL_PER_CONTRACT     0.000000\n",
       "NFLAG_LAST_APPL_IN_DAY          0.000000\n",
       "NAME_CASH_LOAN_PURPOSE          0.000000\n",
       "NAME_CONTRACT_STATUS            0.000000\n",
       "DAYS_DECISION                   0.000000\n",
       "NAME_PAYMENT_TYPE               0.000000\n",
       "CODE_REJECT_REASON              0.000000\n",
       "NAME_CLIENT_TYPE                0.000000\n",
       "NAME_GOODS_CATEGORY             0.000000\n",
       "NAME_PORTFOLIO                  0.000000\n",
       "NAME_PRODUCT_TYPE               0.000000\n",
       "CHANNEL_TYPE                    0.000000\n",
       "SELLERPLACE_AREA                0.000000\n",
       "NAME_SELLER_INDUSTRY            0.000000\n",
       "CNT_PAYMENT                    22.286366\n",
       "NAME_YIELD_GROUP                0.000000\n",
       "PRODUCT_COMBINATION             0.020716\n",
       "DAYS_DECISION_GROUP             0.000000\n",
       "dtype: float64"
      ]
     },
     "execution_count": 72,
     "metadata": {},
     "output_type": "execute_result"
    }
   ],
   "source": [
    "# checking the null value % of each column in previousDF dataframe\n",
    "100*previousDF.isnull().sum()/previousDF.shape[0]"
   ]
  },
  {
   "cell_type": "code",
   "execution_count": 73,
   "id": "fb4729cf",
   "metadata": {},
   "outputs": [
    {
     "data": {
      "image/png": "[encoded data removed]",
      "text/plain": [
       "<Figure size 432x432 with 1 Axes>"
      ]
     },
     "metadata": {
      "needs_background": "light"
     },
     "output_type": "display_data"
    }
   ],
   "source": [
    "plt.figure(figsize=(6,6))\n",
    "sns.kdeplot(previousDF['AMT_ANNUITY'])\n",
    "plt.show()"
   ]
  },
  {
   "cell_type": "markdown",
   "id": "05d4f797",
   "metadata": {},
   "source": [
    "### Insight:\n",
    "- There is a single peak at the left side of the distribution and it indicates the presence of outliers and hence imputing   with mean would not be the right approach and hence imputing with median."
   ]
  },
  {
   "cell_type": "code",
   "execution_count": 74,
   "id": "62bc39ee",
   "metadata": {},
   "outputs": [],
   "source": [
    "previousDF['AMT_ANNUITY'].fillna(previousDF['AMT_ANNUITY'].median(), inplace = True)"
   ]
  },
  {
   "cell_type": "code",
   "execution_count": 75,
   "id": "88e5ef64",
   "metadata": {},
   "outputs": [
    {
     "data": {
      "text/plain": [
       "0"
      ]
     },
     "execution_count": 75,
     "metadata": {},
     "output_type": "execute_result"
    }
   ],
   "source": [
    "# confirming if null values are being removed from 'AMT_ANNUITY'\n",
    "    previousDF['AMT_ANNUITY'].isnull().sum()"
   ]
  },
  {
   "cell_type": "markdown",
   "id": "a165c079",
   "metadata": {},
   "source": [
    "### Impute AMT_GOODS_PRICE with mode"
   ]
  },
  {
   "cell_type": "code",
   "execution_count": 76,
   "id": "97799497",
   "metadata": {},
   "outputs": [],
   "source": [
    "previousDF['AMT_GOODS_PRICE'].fillna(previousDF['AMT_GOODS_PRICE'].mode()[0], inplace = True )"
   ]
  },
  {
   "cell_type": "code",
   "execution_count": 77,
   "id": "783882bd",
   "metadata": {},
   "outputs": [
    {
     "data": {
      "text/plain": [
       "0"
      ]
     },
     "execution_count": 77,
     "metadata": {},
     "output_type": "execute_result"
    }
   ],
   "source": [
    "# confirming if null values are being removed from 'AMT_GOODS_PRICE'\n",
    "previousDF['AMT_GOODS_PRICE'].isnull().sum()"
   ]
  },
  {
   "cell_type": "markdown",
   "id": "1bcb6d02",
   "metadata": {},
   "source": [
    "#### Impute CNT_PAYMENT with 0 as the NAME_CONTRACT_STATUS for these indicate that most of these loans were not started:"
   ]
  },
  {
   "cell_type": "code",
   "execution_count": 78,
   "id": "e55d1df4",
   "metadata": {},
   "outputs": [
    {
     "data": {
      "text/plain": [
       "Canceled        305805\n",
       "Refused          40897\n",
       "Unused offer     25524\n",
       "Approved             4\n",
       "Name: NAME_CONTRACT_STATUS, dtype: int64"
      ]
     },
     "execution_count": 78,
     "metadata": {},
     "output_type": "execute_result"
    }
   ],
   "source": [
    "previousDF.loc[previousDF['CNT_PAYMENT'].isnull(),'NAME_CONTRACT_STATUS'].value_counts()"
   ]
  },
  {
   "cell_type": "code",
   "execution_count": 79,
   "id": "e5ad96f9",
   "metadata": {},
   "outputs": [],
   "source": [
    "previousDF['CNT_PAYMENT'].fillna(0,inplace = True)"
   ]
  },
  {
   "cell_type": "code",
   "execution_count": 80,
   "id": "eee56513",
   "metadata": {},
   "outputs": [
    {
     "data": {
      "text/plain": [
       "SK_ID_PREV                     0.00\n",
       "SK_ID_CURR                     0.00\n",
       "NAME_CONTRACT_TYPE             0.00\n",
       "AMT_ANNUITY                    0.00\n",
       "AMT_APPLICATION                0.00\n",
       "AMT_CREDIT                     0.00\n",
       "AMT_GOODS_PRICE                0.00\n",
       "WEEKDAY_APPR_PROCESS_START     0.00\n",
       "HOUR_APPR_PROCESS_START        0.00\n",
       "FLAG_LAST_APPL_PER_CONTRACT    0.00\n",
       "NFLAG_LAST_APPL_IN_DAY         0.00\n",
       "NAME_CASH_LOAN_PURPOSE         0.00\n",
       "NAME_CONTRACT_STATUS           0.00\n",
       "DAYS_DECISION                  0.00\n",
       "NAME_PAYMENT_TYPE              0.00\n",
       "CODE_REJECT_REASON             0.00\n",
       "NAME_CLIENT_TYPE               0.00\n",
       "NAME_GOODS_CATEGORY            0.00\n",
       "NAME_PORTFOLIO                 0.00\n",
       "NAME_PRODUCT_TYPE              0.00\n",
       "CHANNEL_TYPE                   0.00\n",
       "SELLERPLACE_AREA               0.00\n",
       "NAME_SELLER_INDUSTRY           0.00\n",
       "CNT_PAYMENT                    0.00\n",
       "NAME_YIELD_GROUP               0.00\n",
       "PRODUCT_COMBINATION            0.02\n",
       "DAYS_DECISION_GROUP            0.00\n",
       "dtype: float64"
      ]
     },
     "execution_count": 80,
     "metadata": {},
     "output_type": "execute_result"
    }
   ],
   "source": [
    "# checking the null value % of each column in previousDF dataframe\n",
    "round(100*previousDF.isnull().sum()/previousDF.shape[0], 2)"
   ]
  },
  {
   "cell_type": "markdown",
   "id": "06d357d0",
   "metadata": {},
   "source": [
    "### Identifying the outliers"
   ]
  },
  {
   "cell_type": "markdown",
   "id": "e6cefa90",
   "metadata": {},
   "source": [
    "#### Boxplot for AMT_ANNUITY"
   ]
  },
  {
   "cell_type": "code",
   "execution_count": 81,
   "id": "62b73a3e",
   "metadata": {},
   "outputs": [
    {
     "data": {
      "image/png": "[encoded data removed]",
      "text/plain": [
       "<Figure size 432x288 with 1 Axes>"
      ]
     },
     "metadata": {
      "needs_background": "light"
     },
     "output_type": "display_data"
    }
   ],
   "source": [
    "ax = sns.boxplot(x=previousDF['AMT_ANNUITY'])"
   ]
  },
  {
   "cell_type": "code",
   "execution_count": null,
   "id": "cb880567",
   "metadata": {},
   "outputs": [],
   "source": []
  },
  {
   "cell_type": "code",
   "execution_count": 82,
   "id": "c05a7767",
   "metadata": {},
   "outputs": [
    {
     "data": {
      "image/png": "[encoded data removed]",
      "text/plain": [
       "<Figure size 432x288 with 1 Axes>"
      ]
     },
     "metadata": {
      "needs_background": "light"
     },
     "output_type": "display_data"
    }
   ],
   "source": [
    "ax = sns.boxplot(x=previousDF['AMT_APPLICATION'])"
   ]
  },
  {
   "cell_type": "code",
   "execution_count": null,
   "id": "cff89330",
   "metadata": {},
   "outputs": [],
   "source": []
  },
  {
   "cell_type": "code",
   "execution_count": 83,
   "id": "ca7e597f",
   "metadata": {},
   "outputs": [
    {
     "data": {
      "image/png": "[encoded data removed]",
      "text/plain": [
       "<Figure size 432x288 with 1 Axes>"
      ]
     },
     "metadata": {
      "needs_background": "light"
     },
     "output_type": "display_data"
    }
   ],
   "source": [
    "ax = sns.boxplot(x=previousDF['AMT_CREDIT'])"
   ]
  },
  {
   "cell_type": "code",
   "execution_count": null,
   "id": "d745078f",
   "metadata": {},
   "outputs": [],
   "source": []
  },
  {
   "cell_type": "code",
   "execution_count": 84,
   "id": "53e5798f",
   "metadata": {},
   "outputs": [
    {
     "data": {
      "image/png": "[encoded data removed]",
      "text/plain": [
       "<Figure size 432x288 with 1 Axes>"
      ]
     },
     "metadata": {
      "needs_background": "light"
     },
     "output_type": "display_data"
    }
   ],
   "source": [
    "ax = sns.boxplot(x=previousDF['AMT_GOODS_PRICE'])"
   ]
  },
  {
   "cell_type": "code",
   "execution_count": null,
   "id": "ba6597e2",
   "metadata": {},
   "outputs": [],
   "source": []
  },
  {
   "cell_type": "code",
   "execution_count": 85,
   "id": "5b92577d",
   "metadata": {},
   "outputs": [
    {
     "data": {
      "image/png": "[encoded data removed]",
      "text/plain": [
       "<Figure size 432x288 with 1 Axes>"
      ]
     },
     "metadata": {
      "needs_background": "light"
     },
     "output_type": "display_data"
    }
   ],
   "source": [
    "ax = sns.boxplot(x=previousDF['SELLERPLACE_AREA'])"
   ]
  },
  {
   "cell_type": "code",
   "execution_count": null,
   "id": "b43ff627",
   "metadata": {},
   "outputs": [],
   "source": []
  },
  {
   "cell_type": "code",
   "execution_count": 86,
   "id": "d3b02870",
   "metadata": {},
   "outputs": [
    {
     "data": {
      "image/png": "[encoded data removed]",
      "text/plain": [
       "<Figure size 432x288 with 1 Axes>"
      ]
     },
     "metadata": {
      "needs_background": "light"
     },
     "output_type": "display_data"
    }
   ],
   "source": [
    "ax = sns.boxplot(x=previousDF['SK_ID_CURR'])"
   ]
  },
  {
   "cell_type": "code",
   "execution_count": null,
   "id": "7d5425c2",
   "metadata": {},
   "outputs": [],
   "source": []
  },
  {
   "cell_type": "code",
   "execution_count": 87,
   "id": "f1e21692",
   "metadata": {},
   "outputs": [
    {
     "data": {
      "image/png": "[encoded data removed]",
      "text/plain": [
       "<Figure size 432x288 with 1 Axes>"
      ]
     },
     "metadata": {
      "needs_background": "light"
     },
     "output_type": "display_data"
    }
   ],
   "source": [
    "ax = sns.boxplot(x=previousDF['DAYS_DECISION'])"
   ]
  },
  {
   "cell_type": "code",
   "execution_count": null,
   "id": "04a97d61",
   "metadata": {},
   "outputs": [],
   "source": []
  },
  {
   "cell_type": "code",
   "execution_count": 88,
   "id": "b2caba7f",
   "metadata": {},
   "outputs": [
    {
     "data": {
      "image/png": "[encoded data removed]",
      "text/plain": [
       "<Figure size 432x288 with 1 Axes>"
      ]
     },
     "metadata": {
      "needs_background": "light"
     },
     "output_type": "display_data"
    }
   ],
   "source": [
    "ax = sns.boxplot(x=previousDF['CNT_PAYMENT'])"
   ]
  },
  {
   "cell_type": "markdown",
   "id": "1ea4a3d0",
   "metadata": {},
   "source": [
    "### Insights :\n",
    "#### It can be seen that in previous data\n",
    "- AMT_ANNUITY, AMT_APPLICATION, AMT_CREDIT, AMT_GOODS_PRICE, SELLERPLACE_AREA have huge number of outliers.\n",
    "- CNT_PAYMENT has few outlier values.\n",
    "- SK_ID_CURR is an ID column and hence no outliers.\n",
    "- DAYS_DECISION has little number of outliers indicating that these previous applications decisions were taken long back."
   ]
  },
  {
   "cell_type": "code",
   "execution_count": 89,
   "id": "937a7a8c",
   "metadata": {},
   "outputs": [
    {
     "data": {
      "text/html": [
       "<div>\n",
       "<style scoped>\n",
       "    .dataframe tbody tr th:only-of-type {\n",
       "        vertical-align: middle;\n",
       "    }\n",
       "\n",
       "    .dataframe tbody tr th {\n",
       "        vertical-align: top;\n",
       "    }\n",
       "\n",
       "    .dataframe thead th {\n",
       "        text-align: right;\n",
       "    }\n",
       "</style>\n",
       "<table border=\"1\" class=\"dataframe\">\n",
       "  <thead>\n",
       "    <tr style=\"text-align: right;\">\n",
       "      <th></th>\n",
       "      <th>AMT_ANNUITY</th>\n",
       "      <th>AMT_APPLICATION</th>\n",
       "      <th>AMT_CREDIT</th>\n",
       "      <th>AMT_GOODS_PRICE</th>\n",
       "      <th>SELLERPLACE_AREA</th>\n",
       "      <th>CNT_PAYMENT</th>\n",
       "      <th>DAYS_DECISION</th>\n",
       "    </tr>\n",
       "  </thead>\n",
       "  <tbody>\n",
       "    <tr>\n",
       "      <th>count</th>\n",
       "      <td>1.670214e+06</td>\n",
       "      <td>1.670214e+06</td>\n",
       "      <td>1.670213e+06</td>\n",
       "      <td>1.670214e+06</td>\n",
       "      <td>1.670214e+06</td>\n",
       "      <td>1.670214e+06</td>\n",
       "      <td>1.670214e+06</td>\n",
       "    </tr>\n",
       "    <tr>\n",
       "      <th>mean</th>\n",
       "      <td>1.490651e+04</td>\n",
       "      <td>1.752339e+05</td>\n",
       "      <td>1.961140e+05</td>\n",
       "      <td>1.856429e+05</td>\n",
       "      <td>3.139511e+02</td>\n",
       "      <td>1.247621e+01</td>\n",
       "      <td>8.806797e+02</td>\n",
       "    </tr>\n",
       "    <tr>\n",
       "      <th>std</th>\n",
       "      <td>1.317751e+04</td>\n",
       "      <td>2.927798e+05</td>\n",
       "      <td>3.185746e+05</td>\n",
       "      <td>2.871413e+05</td>\n",
       "      <td>7.127443e+03</td>\n",
       "      <td>1.447588e+01</td>\n",
       "      <td>7.790997e+02</td>\n",
       "    </tr>\n",
       "    <tr>\n",
       "      <th>min</th>\n",
       "      <td>0.000000e+00</td>\n",
       "      <td>0.000000e+00</td>\n",
       "      <td>0.000000e+00</td>\n",
       "      <td>0.000000e+00</td>\n",
       "      <td>-1.000000e+00</td>\n",
       "      <td>0.000000e+00</td>\n",
       "      <td>1.000000e+00</td>\n",
       "    </tr>\n",
       "    <tr>\n",
       "      <th>25%</th>\n",
       "      <td>7.547096e+03</td>\n",
       "      <td>1.872000e+04</td>\n",
       "      <td>2.416050e+04</td>\n",
       "      <td>4.500000e+04</td>\n",
       "      <td>-1.000000e+00</td>\n",
       "      <td>0.000000e+00</td>\n",
       "      <td>2.800000e+02</td>\n",
       "    </tr>\n",
       "    <tr>\n",
       "      <th>50%</th>\n",
       "      <td>1.125000e+04</td>\n",
       "      <td>7.104600e+04</td>\n",
       "      <td>8.054100e+04</td>\n",
       "      <td>7.105050e+04</td>\n",
       "      <td>3.000000e+00</td>\n",
       "      <td>1.000000e+01</td>\n",
       "      <td>5.810000e+02</td>\n",
       "    </tr>\n",
       "    <tr>\n",
       "      <th>75%</th>\n",
       "      <td>1.682403e+04</td>\n",
       "      <td>1.803600e+05</td>\n",
       "      <td>2.164185e+05</td>\n",
       "      <td>1.804050e+05</td>\n",
       "      <td>8.200000e+01</td>\n",
       "      <td>1.600000e+01</td>\n",
       "      <td>1.300000e+03</td>\n",
       "    </tr>\n",
       "    <tr>\n",
       "      <th>max</th>\n",
       "      <td>4.180581e+05</td>\n",
       "      <td>6.905160e+06</td>\n",
       "      <td>6.905160e+06</td>\n",
       "      <td>6.905160e+06</td>\n",
       "      <td>4.000000e+06</td>\n",
       "      <td>8.400000e+01</td>\n",
       "      <td>2.922000e+03</td>\n",
       "    </tr>\n",
       "  </tbody>\n",
       "</table>\n",
       "</div>"
      ],
      "text/plain": [
       "        AMT_ANNUITY  AMT_APPLICATION    AMT_CREDIT  AMT_GOODS_PRICE  SELLERPLACE_AREA   CNT_PAYMENT  DAYS_DECISION\n",
       "count  1.670214e+06     1.670214e+06  1.670213e+06     1.670214e+06      1.670214e+06  1.670214e+06   1.670214e+06\n",
       "mean   1.490651e+04     1.752339e+05  1.961140e+05     1.856429e+05      3.139511e+02  1.247621e+01   8.806797e+02\n",
       "std    1.317751e+04     2.927798e+05  3.185746e+05     2.871413e+05      7.127443e+03  1.447588e+01   7.790997e+02\n",
       "min    0.000000e+00     0.000000e+00  0.000000e+00     0.000000e+00     -1.000000e+00  0.000000e+00   1.000000e+00\n",
       "25%    7.547096e+03     1.872000e+04  2.416050e+04     4.500000e+04     -1.000000e+00  0.000000e+00   2.800000e+02\n",
       "50%    1.125000e+04     7.104600e+04  8.054100e+04     7.105050e+04      3.000000e+00  1.000000e+01   5.810000e+02\n",
       "75%    1.682403e+04     1.803600e+05  2.164185e+05     1.804050e+05      8.200000e+01  1.600000e+01   1.300000e+03\n",
       "max    4.180581e+05     6.905160e+06  6.905160e+06     6.905160e+06      4.000000e+06  8.400000e+01   2.922000e+03"
      ]
     },
     "execution_count": 89,
     "metadata": {},
     "output_type": "execute_result"
    }
   ],
   "source": [
    "previousDF[['AMT_ANNUITY', 'AMT_APPLICATION', 'AMT_CREDIT', 'AMT_GOODS_PRICE', 'SELLERPLACE_AREA',\n",
    "            'CNT_PAYMENT','DAYS_DECISION']].describe()"
   ]
  },
  {
   "cell_type": "markdown",
   "id": "39dfa1b3",
   "metadata": {},
   "source": [
    "### Merge Current & Previous Datasets"
   ]
  },
  {
   "cell_type": "code",
   "execution_count": 90,
   "id": "005d5c1c",
   "metadata": {},
   "outputs": [
    {
     "data": {
      "text/html": [
       "<div>\n",
       "<style scoped>\n",
       "    .dataframe tbody tr th:only-of-type {\n",
       "        vertical-align: middle;\n",
       "    }\n",
       "\n",
       "    .dataframe tbody tr th {\n",
       "        vertical-align: top;\n",
       "    }\n",
       "\n",
       "    .dataframe thead th {\n",
       "        text-align: right;\n",
       "    }\n",
       "</style>\n",
       "<table border=\"1\" class=\"dataframe\">\n",
       "  <thead>\n",
       "    <tr style=\"text-align: right;\">\n",
       "      <th></th>\n",
       "      <th>SK_ID_CURR</th>\n",
       "      <th>TARGET</th>\n",
       "      <th>SK_ID_PREV</th>\n",
       "      <th>NAME_CONTRACT_TYPE</th>\n",
       "      <th>AMT_ANNUITY</th>\n",
       "      <th>AMT_APPLICATION</th>\n",
       "      <th>AMT_CREDIT</th>\n",
       "      <th>AMT_GOODS_PRICE</th>\n",
       "      <th>WEEKDAY_APPR_PROCESS_START</th>\n",
       "      <th>HOUR_APPR_PROCESS_START</th>\n",
       "      <th>FLAG_LAST_APPL_PER_CONTRACT</th>\n",
       "      <th>NFLAG_LAST_APPL_IN_DAY</th>\n",
       "      <th>NAME_CASH_LOAN_PURPOSE</th>\n",
       "      <th>NAME_CONTRACT_STATUS</th>\n",
       "      <th>DAYS_DECISION</th>\n",
       "      <th>NAME_PAYMENT_TYPE</th>\n",
       "      <th>CODE_REJECT_REASON</th>\n",
       "      <th>NAME_CLIENT_TYPE</th>\n",
       "      <th>NAME_GOODS_CATEGORY</th>\n",
       "      <th>NAME_PORTFOLIO</th>\n",
       "      <th>NAME_PRODUCT_TYPE</th>\n",
       "      <th>CHANNEL_TYPE</th>\n",
       "      <th>SELLERPLACE_AREA</th>\n",
       "      <th>NAME_SELLER_INDUSTRY</th>\n",
       "      <th>CNT_PAYMENT</th>\n",
       "      <th>NAME_YIELD_GROUP</th>\n",
       "      <th>PRODUCT_COMBINATION</th>\n",
       "      <th>DAYS_DECISION_GROUP</th>\n",
       "    </tr>\n",
       "  </thead>\n",
       "  <tbody>\n",
       "    <tr>\n",
       "      <th>0</th>\n",
       "      <td>100002</td>\n",
       "      <td>1</td>\n",
       "      <td>1038818</td>\n",
       "      <td>Consumer loans</td>\n",
       "      <td>9251.775</td>\n",
       "      <td>179055.0</td>\n",
       "      <td>179055.0</td>\n",
       "      <td>179055.0</td>\n",
       "      <td>SATURDAY</td>\n",
       "      <td>9</td>\n",
       "      <td>Y</td>\n",
       "      <td>1</td>\n",
       "      <td>XAP</td>\n",
       "      <td>Approved</td>\n",
       "      <td>606</td>\n",
       "      <td>XNA</td>\n",
       "      <td>XAP</td>\n",
       "      <td>New</td>\n",
       "      <td>Vehicles</td>\n",
       "      <td>POS</td>\n",
       "      <td>XNA</td>\n",
       "      <td>Stone</td>\n",
       "      <td>500</td>\n",
       "      <td>Auto technology</td>\n",
       "      <td>24.0</td>\n",
       "      <td>low_normal</td>\n",
       "      <td>POS other with interest</td>\n",
       "      <td>400-800</td>\n",
       "    </tr>\n",
       "    <tr>\n",
       "      <th>1</th>\n",
       "      <td>100003</td>\n",
       "      <td>0</td>\n",
       "      <td>1810518</td>\n",
       "      <td>Cash loans</td>\n",
       "      <td>98356.995</td>\n",
       "      <td>900000.0</td>\n",
       "      <td>1035882.0</td>\n",
       "      <td>900000.0</td>\n",
       "      <td>FRIDAY</td>\n",
       "      <td>12</td>\n",
       "      <td>Y</td>\n",
       "      <td>1</td>\n",
       "      <td>XNA</td>\n",
       "      <td>Approved</td>\n",
       "      <td>746</td>\n",
       "      <td>XNA</td>\n",
       "      <td>XAP</td>\n",
       "      <td>Repeater</td>\n",
       "      <td>XNA</td>\n",
       "      <td>Cash</td>\n",
       "      <td>x-sell</td>\n",
       "      <td>Credit and cash offices</td>\n",
       "      <td>-1</td>\n",
       "      <td>XNA</td>\n",
       "      <td>12.0</td>\n",
       "      <td>low_normal</td>\n",
       "      <td>Cash X-Sell: low</td>\n",
       "      <td>400-800</td>\n",
       "    </tr>\n",
       "    <tr>\n",
       "      <th>2</th>\n",
       "      <td>100003</td>\n",
       "      <td>0</td>\n",
       "      <td>2636178</td>\n",
       "      <td>Consumer loans</td>\n",
       "      <td>64567.665</td>\n",
       "      <td>337500.0</td>\n",
       "      <td>348637.5</td>\n",
       "      <td>337500.0</td>\n",
       "      <td>SUNDAY</td>\n",
       "      <td>17</td>\n",
       "      <td>Y</td>\n",
       "      <td>1</td>\n",
       "      <td>XAP</td>\n",
       "      <td>Approved</td>\n",
       "      <td>828</td>\n",
       "      <td>Cash through the bank</td>\n",
       "      <td>XAP</td>\n",
       "      <td>Refreshed</td>\n",
       "      <td>Furniture</td>\n",
       "      <td>POS</td>\n",
       "      <td>XNA</td>\n",
       "      <td>Stone</td>\n",
       "      <td>1400</td>\n",
       "      <td>Furniture</td>\n",
       "      <td>6.0</td>\n",
       "      <td>middle</td>\n",
       "      <td>POS industry with interest</td>\n",
       "      <td>800-1200</td>\n",
       "    </tr>\n",
       "    <tr>\n",
       "      <th>3</th>\n",
       "      <td>100003</td>\n",
       "      <td>0</td>\n",
       "      <td>2396755</td>\n",
       "      <td>Consumer loans</td>\n",
       "      <td>6737.310</td>\n",
       "      <td>68809.5</td>\n",
       "      <td>68053.5</td>\n",
       "      <td>68809.5</td>\n",
       "      <td>SATURDAY</td>\n",
       "      <td>15</td>\n",
       "      <td>Y</td>\n",
       "      <td>1</td>\n",
       "      <td>XAP</td>\n",
       "      <td>Approved</td>\n",
       "      <td>2341</td>\n",
       "      <td>Cash through the bank</td>\n",
       "      <td>XAP</td>\n",
       "      <td>Refreshed</td>\n",
       "      <td>Consumer Electronics</td>\n",
       "      <td>POS</td>\n",
       "      <td>XNA</td>\n",
       "      <td>Country-wide</td>\n",
       "      <td>200</td>\n",
       "      <td>Consumer electronics</td>\n",
       "      <td>12.0</td>\n",
       "      <td>middle</td>\n",
       "      <td>POS household with interest</td>\n",
       "      <td>2000-2400</td>\n",
       "    </tr>\n",
       "    <tr>\n",
       "      <th>4</th>\n",
       "      <td>100004</td>\n",
       "      <td>0</td>\n",
       "      <td>1564014</td>\n",
       "      <td>Consumer loans</td>\n",
       "      <td>5357.250</td>\n",
       "      <td>24282.0</td>\n",
       "      <td>20106.0</td>\n",
       "      <td>24282.0</td>\n",
       "      <td>FRIDAY</td>\n",
       "      <td>5</td>\n",
       "      <td>Y</td>\n",
       "      <td>1</td>\n",
       "      <td>XAP</td>\n",
       "      <td>Approved</td>\n",
       "      <td>815</td>\n",
       "      <td>Cash through the bank</td>\n",
       "      <td>XAP</td>\n",
       "      <td>New</td>\n",
       "      <td>Mobile</td>\n",
       "      <td>POS</td>\n",
       "      <td>XNA</td>\n",
       "      <td>Regional / Local</td>\n",
       "      <td>30</td>\n",
       "      <td>Connectivity</td>\n",
       "      <td>4.0</td>\n",
       "      <td>middle</td>\n",
       "      <td>POS mobile without interest</td>\n",
       "      <td>800-1200</td>\n",
       "    </tr>\n",
       "  </tbody>\n",
       "</table>\n",
       "</div>"
      ],
      "text/plain": [
       "   SK_ID_CURR  TARGET  SK_ID_PREV NAME_CONTRACT_TYPE  AMT_ANNUITY  AMT_APPLICATION  AMT_CREDIT  AMT_GOODS_PRICE WEEKDAY_APPR_PROCESS_START  HOUR_APPR_PROCESS_START FLAG_LAST_APPL_PER_CONTRACT  NFLAG_LAST_APPL_IN_DAY NAME_CASH_LOAN_PURPOSE NAME_CONTRACT_STATUS  DAYS_DECISION      NAME_PAYMENT_TYPE CODE_REJECT_REASON NAME_CLIENT_TYPE   NAME_GOODS_CATEGORY NAME_PORTFOLIO NAME_PRODUCT_TYPE             CHANNEL_TYPE  SELLERPLACE_AREA  NAME_SELLER_INDUSTRY  CNT_PAYMENT NAME_YIELD_GROUP          PRODUCT_COMBINATION DAYS_DECISION_GROUP\n",
       "0      100002       1     1038818     Consumer loans     9251.775         179055.0    179055.0         179055.0                   SATURDAY                        9                           Y                       1                    XAP             Approved            606                    XNA                XAP              New              Vehicles            POS               XNA                    Stone               500       Auto technology         24.0       low_normal      POS other with interest             400-800\n",
       "1      100003       0     1810518         Cash loans    98356.995         900000.0   1035882.0         900000.0                     FRIDAY                       12                           Y                       1                    XNA             Approved            746                    XNA                XAP         Repeater                   XNA           Cash            x-sell  Credit and cash offices                -1                   XNA         12.0       low_normal             Cash X-Sell: low             400-800\n",
       "2      100003       0     2636178     Consumer loans    64567.665         337500.0    348637.5         337500.0                     SUNDAY                       17                           Y                       1                    XAP             Approved            828  Cash through the bank                XAP        Refreshed             Furniture            POS               XNA                    Stone              1400             Furniture          6.0           middle   POS industry with interest            800-1200\n",
       "3      100003       0     2396755     Consumer loans     6737.310          68809.5     68053.5          68809.5                   SATURDAY                       15                           Y                       1                    XAP             Approved           2341  Cash through the bank                XAP        Refreshed  Consumer Electronics            POS               XNA             Country-wide               200  Consumer electronics         12.0           middle  POS household with interest           2000-2400\n",
       "4      100004       0     1564014     Consumer loans     5357.250          24282.0     20106.0          24282.0                     FRIDAY                        5                           Y                       1                    XAP             Approved            815  Cash through the bank                XAP              New                Mobile            POS               XNA         Regional / Local                30          Connectivity          4.0           middle  POS mobile without interest            800-1200"
      ]
     },
     "execution_count": 90,
     "metadata": {},
     "output_type": "execute_result"
    }
   ],
   "source": [
    "#do an inner join of previousDF & applicationDF datasets. Only include the target variable in the merged dataset\n",
    "df3 = pd.merge(applicationDF[[\"SK_ID_CURR\",\"TARGET\"]],previousDF,how=\"inner\",on=\"SK_ID_CURR\")\n",
    "df3.head()"
   ]
  },
  {
   "cell_type": "code",
   "execution_count": 91,
   "id": "7967589e",
   "metadata": {
    "scrolled": false
   },
   "outputs": [
    {
     "name": "stdout",
     "output_type": "stream",
     "text": [
      "<class 'pandas.core.frame.DataFrame'>\n",
      "Int64Index: 1413701 entries, 0 to 1413700\n",
      "Data columns (total 28 columns):\n",
      " #   Column                       Non-Null Count    Dtype   \n",
      "---  ------                       --------------    -----   \n",
      " 0   SK_ID_CURR                   1413701 non-null  int64   \n",
      " 1   TARGET                       1413701 non-null  int64   \n",
      " 2   SK_ID_PREV                   1413701 non-null  int64   \n",
      " 3   NAME_CONTRACT_TYPE           1413701 non-null  category\n",
      " 4   AMT_ANNUITY                  1413701 non-null  float64 \n",
      " 5   AMT_APPLICATION              1413701 non-null  float64 \n",
      " 6   AMT_CREDIT                   1413700 non-null  float64 \n",
      " 7   AMT_GOODS_PRICE              1413701 non-null  float64 \n",
      " 8   WEEKDAY_APPR_PROCESS_START   1413701 non-null  object  \n",
      " 9   HOUR_APPR_PROCESS_START      1413701 non-null  int64   \n",
      " 10  FLAG_LAST_APPL_PER_CONTRACT  1413701 non-null  object  \n",
      " 11  NFLAG_LAST_APPL_IN_DAY       1413701 non-null  int64   \n",
      " 12  NAME_CASH_LOAN_PURPOSE       1413701 non-null  category\n",
      " 13  NAME_CONTRACT_STATUS         1413701 non-null  category\n",
      " 14  DAYS_DECISION                1413701 non-null  int64   \n",
      " 15  NAME_PAYMENT_TYPE            1413701 non-null  category\n",
      " 16  CODE_REJECT_REASON           1413701 non-null  category\n",
      " 17  NAME_CLIENT_TYPE             1413701 non-null  category\n",
      " 18  NAME_GOODS_CATEGORY          1413701 non-null  category\n",
      " 19  NAME_PORTFOLIO               1413701 non-null  category\n",
      " 20  NAME_PRODUCT_TYPE            1413701 non-null  category\n",
      " 21  CHANNEL_TYPE                 1413701 non-null  category\n",
      " 22  SELLERPLACE_AREA             1413701 non-null  int64   \n",
      " 23  NAME_SELLER_INDUSTRY         1413701 non-null  category\n",
      " 24  CNT_PAYMENT                  1413701 non-null  float64 \n",
      " 25  NAME_YIELD_GROUP             1413701 non-null  category\n",
      " 26  PRODUCT_COMBINATION          1413388 non-null  category\n",
      " 27  DAYS_DECISION_GROUP          1413701 non-null  category\n",
      "dtypes: category(14), float64(5), int64(7), object(2)\n",
      "memory usage: 180.7+ MB\n"
     ]
    }
   ],
   "source": [
    "df3.info()"
   ]
  },
  {
   "cell_type": "code",
   "execution_count": 92,
   "id": "1455e254",
   "metadata": {},
   "outputs": [
    {
     "data": {
      "text/plain": [
       "Index(['SK_ID_CURR', 'TARGET', 'SK_ID_PREV', 'AMT_ANNUITY', 'AMT_APPLICATION', 'AMT_CREDIT', 'AMT_GOODS_PRICE', 'HOUR_APPR_PROCESS_START', 'NFLAG_LAST_APPL_IN_DAY', 'DAYS_DECISION', 'SELLERPLACE_AREA', 'CNT_PAYMENT'], dtype='object')"
      ]
     },
     "execution_count": 92,
     "metadata": {},
     "output_type": "execute_result"
    }
   ],
   "source": [
    "#Identify Numeric columns from the dataset\n",
    "df3_numeric = df3._get_numeric_data().columns\n",
    "df3_numeric"
   ]
  },
  {
   "cell_type": "code",
   "execution_count": 93,
   "id": "61beef67",
   "metadata": {},
   "outputs": [
    {
     "data": {
      "text/plain": [
       "['NAME_CONTRACT_TYPE',\n",
       " 'WEEKDAY_APPR_PROCESS_START',\n",
       " 'FLAG_LAST_APPL_PER_CONTRACT',\n",
       " 'NAME_CASH_LOAN_PURPOSE',\n",
       " 'NAME_CONTRACT_STATUS',\n",
       " 'NAME_PAYMENT_TYPE',\n",
       " 'CODE_REJECT_REASON',\n",
       " 'NAME_CLIENT_TYPE',\n",
       " 'NAME_GOODS_CATEGORY',\n",
       " 'NAME_PORTFOLIO',\n",
       " 'NAME_PRODUCT_TYPE',\n",
       " 'CHANNEL_TYPE',\n",
       " 'NAME_SELLER_INDUSTRY',\n",
       " 'NAME_YIELD_GROUP',\n",
       " 'PRODUCT_COMBINATION',\n",
       " 'DAYS_DECISION_GROUP']"
      ]
     },
     "execution_count": 93,
     "metadata": {},
     "output_type": "execute_result"
    }
   ],
   "source": [
    "#Identify categorical columns from the dataset\n",
    "df3_catagorical =[column for column in df3.columns if column not in df3_numeric ]\n",
    "df3_catagorical"
   ]
  },
  {
   "cell_type": "code",
   "execution_count": 94,
   "id": "cc2c8ff8",
   "metadata": {},
   "outputs": [
    {
     "data": {
      "image/png": "[encoded data removed]",
      "text/plain": [
       "<Figure size 720x576 with 2 Axes>"
      ]
     },
     "metadata": {
      "needs_background": "light"
     },
     "output_type": "display_data"
    }
   ],
   "source": [
    "#Create a visualisation of NAME_CONTRACT_TYPE using countplot\n",
    "fig,ax = plt.subplots(1,2,figsize=(10,8))\n",
    "sns.countplot(ax=ax[0],x=\"NAME_CONTRACT_TYPE\",data=df3)\n",
    "sns.countplot(ax=ax[1],x=\"TARGET\",data=df3,hue=\"NAME_CONTRACT_TYPE\")\n",
    "plt.subplots_adjust(left=0.1,\n",
    "                    bottom=0.1, \n",
    "                    right=2, \n",
    "                    top=0.9, \n",
    "                    wspace=0.3, \n",
    "                    hspace=0.3)\n",
    "\n",
    "plt.show()"
   ]
  },
  {
   "cell_type": "code",
   "execution_count": 95,
   "id": "e12713c5",
   "metadata": {},
   "outputs": [
    {
     "data": {
      "text/plain": [
       "Cash loans         44.33\n",
       "Consumer loans     44.23\n",
       "Revolving loans    11.41\n",
       "XNA                 0.02\n",
       "Name: NAME_CONTRACT_TYPE, dtype: float64"
      ]
     },
     "execution_count": 95,
     "metadata": {},
     "output_type": "execute_result"
    }
   ],
   "source": [
    "round((df3.NAME_CONTRACT_TYPE.value_counts(normalize=True)*100),2)"
   ]
  },
  {
   "cell_type": "code",
   "execution_count": 96,
   "id": "789d24c5",
   "metadata": {},
   "outputs": [
    {
     "data": {
      "text/plain": [
       "TARGET                 \n",
       "0       Consumer loans     44.69\n",
       "        Cash loans         44.11\n",
       "        Revolving loans    11.19\n",
       "        XNA                 0.02\n",
       "1       Cash loans         46.74\n",
       "        Consumer loans     39.40\n",
       "        Revolving loans    13.81\n",
       "        XNA                 0.05\n",
       "Name: NAME_CONTRACT_TYPE, dtype: float64"
      ]
     },
     "execution_count": 96,
     "metadata": {},
     "output_type": "execute_result"
    }
   ],
   "source": [
    "# Segmented analysis based on TARGET variable\n",
    "round((df3.groupby(\"TARGET\").NAME_CONTRACT_TYPE.value_counts(normalize=True)*100),2)"
   ]
  },
  {
   "cell_type": "code",
   "execution_count": 97,
   "id": "ce132f9a",
   "metadata": {},
   "outputs": [
    {
     "data": {
      "image/png": "[encoded data removed]",
      "text/plain": [
       "<Figure size 432x288 with 1 Axes>"
      ]
     },
     "metadata": {
      "needs_background": "light"
     },
     "output_type": "display_data"
    }
   ],
   "source": [
    "# Segmented analysis based on TARGET variable\n",
    "df3.groupby(\"NAME_CONTRACT_TYPE\").TARGET.mean().plot.bar()\n",
    "plt.show()"
   ]
  },
  {
   "cell_type": "code",
   "execution_count": 98,
   "id": "2fc7d7bb",
   "metadata": {},
   "outputs": [
    {
     "data": {
      "image/png": "[encoded data removed]",
      "text/plain": [
       "<Figure size 720x576 with 2 Axes>"
      ]
     },
     "metadata": {
      "needs_background": "light"
     },
     "output_type": "display_data"
    }
   ],
   "source": [
    "#Create a visualisation of NAME_CONTRACT_TYPE using countplot\n",
    "fig,ax = plt.subplots(1,2,figsize=(10,8))\n",
    "sns.countplot(ax=ax[0],x=\"WEEKDAY_APPR_PROCESS_START\",data=df3)\n",
    "sns.countplot(ax=ax[1],x=\"TARGET\",data=df3,hue=\"WEEKDAY_APPR_PROCESS_START\")\n",
    "plt.subplots_adjust(left=0.1,\n",
    "                    bottom=0.1, \n",
    "                    right=2, \n",
    "                    top=0.9, \n",
    "                    wspace=0.4, \n",
    "                    hspace=0.4)\n",
    "\n",
    "plt.show()"
   ]
  },
  {
   "cell_type": "code",
   "execution_count": 99,
   "id": "6fe14a48",
   "metadata": {
    "scrolled": false
   },
   "outputs": [
    {
     "data": {
      "text/plain": [
       "WEDNESDAY    15.25\n",
       "TUESDAY      15.21\n",
       "MONDAY       15.17\n",
       "FRIDAY       15.09\n",
       "THURSDAY     14.93\n",
       "SATURDAY     14.44\n",
       "SUNDAY        9.91\n",
       "Name: WEEKDAY_APPR_PROCESS_START, dtype: float64"
      ]
     },
     "execution_count": 99,
     "metadata": {},
     "output_type": "execute_result"
    }
   ],
   "source": [
    "round((df3.WEEKDAY_APPR_PROCESS_START.value_counts(normalize=True)*100),2)"
   ]
  },
  {
   "cell_type": "code",
   "execution_count": 100,
   "id": "d7e452cd",
   "metadata": {
    "scrolled": false
   },
   "outputs": [
    {
     "data": {
      "text/plain": [
       "TARGET  WEEKDAY_APPR_PROCESS_START\n",
       "0       WEDNESDAY                     15.24\n",
       "        TUESDAY                       15.19\n",
       "        MONDAY                        15.14\n",
       "        FRIDAY                        15.08\n",
       "        THURSDAY                      14.89\n",
       "        SATURDAY                      14.49\n",
       "        SUNDAY                         9.97\n",
       "1       MONDAY                        15.53\n",
       "        TUESDAY                       15.41\n",
       "        THURSDAY                      15.33\n",
       "        WEDNESDAY                     15.32\n",
       "        FRIDAY                        15.26\n",
       "        SATURDAY                      13.93\n",
       "        SUNDAY                         9.22\n",
       "Name: WEEKDAY_APPR_PROCESS_START, dtype: float64"
      ]
     },
     "execution_count": 100,
     "metadata": {},
     "output_type": "execute_result"
    }
   ],
   "source": [
    "# Segmented analysis based on TARGET variable\n",
    "round((df3.groupby(\"TARGET\").WEEKDAY_APPR_PROCESS_START.value_counts(normalize=True)*100),2)"
   ]
  },
  {
   "cell_type": "code",
   "execution_count": 101,
   "id": "64180059",
   "metadata": {
    "scrolled": false
   },
   "outputs": [
    {
     "data": {
      "image/png": "[encoded data removed]",
      "text/plain": [
       "<Figure size 432x288 with 1 Axes>"
      ]
     },
     "metadata": {
      "needs_background": "light"
     },
     "output_type": "display_data"
    }
   ],
   "source": [
    "# Segmented analysis based on TARGET variable\n",
    "df3.groupby(\"WEEKDAY_APPR_PROCESS_START\").TARGET.mean().plot.bar()\n",
    "plt.show()"
   ]
  },
  {
   "cell_type": "code",
   "execution_count": null,
   "id": "38a36464",
   "metadata": {},
   "outputs": [],
   "source": []
  },
  {
   "cell_type": "code",
   "execution_count": 102,
   "id": "2c62f363",
   "metadata": {},
   "outputs": [
    {
     "data": {
      "image/png": "[encoded data removed]",
      "text/plain": [
       "<Figure size 720x576 with 2 Axes>"
      ]
     },
     "metadata": {
      "needs_background": "light"
     },
     "output_type": "display_data"
    }
   ],
   "source": [
    "#Create a visualisation of NAME_CONTRACT_TYPE using countplot\n",
    "fig,ax = plt.subplots(1,2,figsize=(10,8))\n",
    "sns.countplot(ax=ax[0],x=\"FLAG_LAST_APPL_PER_CONTRACT\",data=df3)\n",
    "sns.countplot(ax=ax[1],x=\"TARGET\",data=df3,hue=\"FLAG_LAST_APPL_PER_CONTRACT\")\n",
    "plt.subplots_adjust(left=0.1,\n",
    "                    bottom=0.1, \n",
    "                    right=2, \n",
    "                    top=0.9, \n",
    "                    wspace=0.4, \n",
    "                    hspace=0.4)\n",
    "\n",
    "plt.show()"
   ]
  },
  {
   "cell_type": "code",
   "execution_count": 103,
   "id": "8e938763",
   "metadata": {
    "scrolled": false
   },
   "outputs": [
    {
     "data": {
      "text/plain": [
       "Y    99.48\n",
       "N     0.52\n",
       "Name: FLAG_LAST_APPL_PER_CONTRACT, dtype: float64"
      ]
     },
     "execution_count": 103,
     "metadata": {},
     "output_type": "execute_result"
    }
   ],
   "source": [
    "#find percentage breakup of distribuiton\n",
    "round((df3.FLAG_LAST_APPL_PER_CONTRACT.value_counts(normalize=True)*100),2)"
   ]
  },
  {
   "cell_type": "code",
   "execution_count": 104,
   "id": "a6af66fc",
   "metadata": {
    "scrolled": false
   },
   "outputs": [],
   "source": [
    "#drop the column as majority of the values are marked as Y\n",
    "df3.drop(\"FLAG_LAST_APPL_PER_CONTRACT\",axis=1,inplace=True)"
   ]
  },
  {
   "cell_type": "code",
   "execution_count": 105,
   "id": "ef8a17f3",
   "metadata": {
    "scrolled": false
   },
   "outputs": [
    {
     "data": {
      "text/plain": [
       "XAP                                 786937\n",
       "XNA                                 567351\n",
       "Repairs                              20117\n",
       "Other                                13432\n",
       "Urgent needs                          7236\n",
       "Buying a used car                     2469\n",
       "Building a house or an annex          2344\n",
       "Everyday expenses                     2052\n",
       "Medicine                              1871\n",
       "Payments on other loans               1573\n",
       "Education                             1334\n",
       "Journey                               1042\n",
       "Purchase of electronic equipment       934\n",
       "Buying a new car                       886\n",
       "Wedding / gift / holiday               801\n",
       "Buying a home                          701\n",
       "Car repairs                            691\n",
       "Furniture                              660\n",
       "Buying a holiday home / land           463\n",
       "Business development                   359\n",
       "Gasification / water supply            251\n",
       "Buying a garage                        116\n",
       "Hobby                                   45\n",
       "Money for a third person                23\n",
       "Refusal to name the goal                13\n",
       "Name: NAME_CASH_LOAN_PURPOSE, dtype: int64"
      ]
     },
     "execution_count": 105,
     "metadata": {},
     "output_type": "execute_result"
    }
   ],
   "source": [
    "df3.NAME_CASH_LOAN_PURPOSE.value_counts()"
   ]
  },
  {
   "cell_type": "code",
   "execution_count": 106,
   "id": "143db8d0",
   "metadata": {},
   "outputs": [
    {
     "data": {
      "text/plain": [
       "NAME_CONTRACT_TYPE  NAME_CONTRACT_STATUS                                  \n",
       "Cash loans          Approved              XNA                                 243306\n",
       "                                          Repairs                               7377\n",
       "                                          Other                                 5744\n",
       "                                          Urgent needs                          3105\n",
       "                                          Everyday expenses                     1056\n",
       "                                          Medicine                               890\n",
       "                                          Buying a used car                      745\n",
       "                                          Education                              647\n",
       "                                          Building a house or an annex           594\n",
       "                                          Purchase of electronic equipment       517\n",
       "                                          Journey                                474\n",
       "                                          Wedding / gift / holiday               337\n",
       "                                          Car repairs                            302\n",
       "                                          Furniture                              290\n",
       "                                          Payments on other loans                251\n",
       "                                          Buying a new car                       195\n",
       "                                          Buying a home                          166\n",
       "                                          Buying a holiday home / land           115\n",
       "                                          Business development                   109\n",
       "                                          Gasification / water supply            100\n",
       "                                          Buying a garage                         31\n",
       "                                          Hobby                                   16\n",
       "                                          Money for a third person                11\n",
       "                                          Refusal to name the goal                 3\n",
       "                                          XAP                                      0\n",
       "                    Canceled              XNA                                 219014\n",
       "                                          Repairs                                527\n",
       "                                          Other                                  246\n",
       "                                          Urgent needs                           115\n",
       "                                          Building a house or an annex            86\n",
       "                                          Buying a used car                       82\n",
       "                                          Payments on other loans                 64\n",
       "                                          Buying a new car                        44\n",
       "                                          Buying a home                           31\n",
       "                                          Medicine                                27\n",
       "                                          Education                               19\n",
       "                                          Furniture                               19\n",
       "                                          Wedding / gift / holiday                18\n",
       "                                          Journey                                 16\n",
       "                                          Car repairs                             15\n",
       "                                          Buying a holiday home / land            15\n",
       "                                          Business development                    14\n",
       "                                          Everyday expenses                       13\n",
       "                                          Purchase of electronic equipment         7\n",
       "                                          Buying a garage                          7\n",
       "                                          Gasification / water supply              4\n",
       "                                          XAP                                      0\n",
       "                                          Money for a third person                 0\n",
       "                                          Refusal to name the goal                 0\n",
       "                                          Hobby                                    0\n",
       "                    Refused               XNA                                 104782\n",
       "                                          Repairs                              12176\n",
       "                                          Other                                 7354\n",
       "                                          Urgent needs                          4016\n",
       "                                          Building a house or an annex          1664\n",
       "                                          Buying a used car                     1630\n",
       "                                          Payments on other loans               1255\n",
       "                                          Everyday expenses                      963\n",
       "                                          Medicine                               950\n",
       "                                          Education                              663\n",
       "                                          Buying a new car                       641\n",
       "                                          Journey                                548\n",
       "                                          Buying a home                          504\n",
       "                                          Wedding / gift / holiday               446\n",
       "                                          Purchase of electronic equipment       406\n",
       "                                          Car repairs                            374\n",
       "                                          Furniture                              351\n",
       "                                          Buying a holiday home / land           333\n",
       "                                          Business development                   236\n",
       "                                          Gasification / water supply            147\n",
       "                                          Buying a garage                         78\n",
       "                                          Hobby                                   29\n",
       "                                          Money for a third person                12\n",
       "                                          Refusal to name the goal                10\n",
       "                                          XAP                                      0\n",
       "                    Unused offer          XNA                                    249\n",
       "                                          Other                                   88\n",
       "                                          Repairs                                 37\n",
       "                                          Everyday expenses                       20\n",
       "                                          Buying a used car                       12\n",
       "                                          Buying a new car                         6\n",
       "                                          Education                                5\n",
       "                                          Purchase of electronic equipment         4\n",
       "                                          Journey                                  4\n",
       "                                          Medicine                                 4\n",
       "                                          Payments on other loans                  3\n",
       "                                          XAP                                      0\n",
       "                                          Wedding / gift / holiday                 0\n",
       "                                          Urgent needs                             0\n",
       "                                          Refusal to name the goal                 0\n",
       "                                          Building a house or an annex             0\n",
       "                                          Money for a third person                 0\n",
       "                                          Business development                     0\n",
       "                                          Gasification / water supply              0\n",
       "                                          Furniture                                0\n",
       "                                          Car repairs                              0\n",
       "                                          Buying a home                            0\n",
       "                                          Buying a holiday home / land             0\n",
       "                                          Buying a garage                          0\n",
       "                                          Hobby                                    0\n",
       "Consumer loans      Approved              XAP                                 537310\n",
       "                                          Building a house or an annex             0\n",
       "                                          Journey                                  0\n",
       "                                          Wedding / gift / holiday                 0\n",
       "                                          Urgent needs                             0\n",
       "                                          Repairs                                  0\n",
       "                                          Refusal to name the goal                 0\n",
       "                                          Purchase of electronic equipment         0\n",
       "                                          Payments on other loans                  0\n",
       "                                          Other                                    0\n",
       "                                          Money for a third person                 0\n",
       "                                          Medicine                                 0\n",
       "                                          Hobby                                    0\n",
       "                                          Business development                     0\n",
       "                                          Gasification / water supply              0\n",
       "                                          Furniture                                0\n",
       "                                          Everyday expenses                        0\n",
       "                                          Education                                0\n",
       "                                          Car repairs                              0\n",
       "                                          Buying a used car                        0\n",
       "                                          Buying a new car                         0\n",
       "                                          Buying a home                            0\n",
       "                                          Buying a holiday home / land             0\n",
       "                                          Buying a garage                          0\n",
       "                                          XNA                                      0\n",
       "                    Canceled              XAP                                   1329\n",
       "                                          Building a house or an annex             0\n",
       "                                          Journey                                  0\n",
       "                                          Wedding / gift / holiday                 0\n",
       "                                          Urgent needs                             0\n",
       "                                          Repairs                                  0\n",
       "                                          Refusal to name the goal                 0\n",
       "                                          Purchase of electronic equipment         0\n",
       "                                          Payments on other loans                  0\n",
       "                                          Other                                    0\n",
       "                                          Money for a third person                 0\n",
       "                                          Medicine                                 0\n",
       "                                          Hobby                                    0\n",
       "                                          Business development                     0\n",
       "                                          Gasification / water supply              0\n",
       "                                          Furniture                                0\n",
       "                                          Everyday expenses                        0\n",
       "                                          Education                                0\n",
       "                                          Car repairs                              0\n",
       "                                          Buying a used car                        0\n",
       "                                          Buying a new car                         0\n",
       "                                          Buying a home                            0\n",
       "                                          Buying a holiday home / land             0\n",
       "                                          Buying a garage                          0\n",
       "                                          XNA                                      0\n",
       "                    Refused               XAP                                  64282\n",
       "                                          Building a house or an annex             0\n",
       "                                          Journey                                  0\n",
       "                                          Wedding / gift / holiday                 0\n",
       "                                          Urgent needs                             0\n",
       "                                          Repairs                                  0\n",
       "                                          Refusal to name the goal                 0\n",
       "                                          Purchase of electronic equipment         0\n",
       "                                          Payments on other loans                  0\n",
       "                                          Other                                    0\n",
       "                                          Money for a third person                 0\n",
       "                                          Medicine                                 0\n",
       "                                          Hobby                                    0\n",
       "                                          Business development                     0\n",
       "                                          Gasification / water supply              0\n",
       "                                          Furniture                                0\n",
       "                                          Everyday expenses                        0\n",
       "                                          Education                                0\n",
       "                                          Car repairs                              0\n",
       "                                          Buying a used car                        0\n",
       "                                          Buying a new car                         0\n",
       "                                          Buying a home                            0\n",
       "                                          Buying a holiday home / land             0\n",
       "                                          Buying a garage                          0\n",
       "                                          XNA                                      0\n",
       "                    Unused offer          XAP                                  22335\n",
       "                                          Building a house or an annex             0\n",
       "                                          Journey                                  0\n",
       "                                          Wedding / gift / holiday                 0\n",
       "                                          Urgent needs                             0\n",
       "                                          Repairs                                  0\n",
       "                                          Refusal to name the goal                 0\n",
       "                                          Purchase of electronic equipment         0\n",
       "                                          Payments on other loans                  0\n",
       "                                          Other                                    0\n",
       "                                          Money for a third person                 0\n",
       "                                          Medicine                                 0\n",
       "                                          Hobby                                    0\n",
       "                                          Business development                     0\n",
       "                                          Gasification / water supply              0\n",
       "                                          Furniture                                0\n",
       "                                          Everyday expenses                        0\n",
       "                                          Education                                0\n",
       "                                          Car repairs                              0\n",
       "                                          Buying a used car                        0\n",
       "                                          Buying a new car                         0\n",
       "                                          Buying a home                            0\n",
       "                                          Buying a holiday home / land             0\n",
       "                                          Buying a garage                          0\n",
       "                                          XNA                                      0\n",
       "Revolving loans     Approved              XAP                                  82408\n",
       "                                          Building a house or an annex             0\n",
       "                                          Journey                                  0\n",
       "                                          Wedding / gift / holiday                 0\n",
       "                                          Urgent needs                             0\n",
       "                                          Repairs                                  0\n",
       "                                          Refusal to name the goal                 0\n",
       "                                          Purchase of electronic equipment         0\n",
       "                                          Payments on other loans                  0\n",
       "                                          Other                                    0\n",
       "                                          Money for a third person                 0\n",
       "                                          Medicine                                 0\n",
       "                                          Hobby                                    0\n",
       "                                          Business development                     0\n",
       "                                          Gasification / water supply              0\n",
       "                                          Furniture                                0\n",
       "                                          Everyday expenses                        0\n",
       "                                          Education                                0\n",
       "                                          Car repairs                              0\n",
       "                                          Buying a used car                        0\n",
       "                                          Buying a new car                         0\n",
       "                                          Buying a home                            0\n",
       "                                          Buying a holiday home / land             0\n",
       "                                          Buying a garage                          0\n",
       "                                          XNA                                      0\n",
       "                    Canceled              XAP                                  37445\n",
       "                                          Building a house or an annex             0\n",
       "                                          Journey                                  0\n",
       "                                          Wedding / gift / holiday                 0\n",
       "                                          Urgent needs                             0\n",
       "                                          Repairs                                  0\n",
       "                                          Refusal to name the goal                 0\n",
       "                                          Purchase of electronic equipment         0\n",
       "                                          Payments on other loans                  0\n",
       "                                          Other                                    0\n",
       "                                          Money for a third person                 0\n",
       "                                          Medicine                                 0\n",
       "                                          Hobby                                    0\n",
       "                                          Business development                     0\n",
       "                                          Gasification / water supply              0\n",
       "                                          Furniture                                0\n",
       "                                          Everyday expenses                        0\n",
       "                                          Education                                0\n",
       "                                          Car repairs                              0\n",
       "                                          Buying a used car                        0\n",
       "                                          Buying a new car                         0\n",
       "                                          Buying a home                            0\n",
       "                                          Buying a holiday home / land             0\n",
       "                                          Buying a garage                          0\n",
       "                                          XNA                                      0\n",
       "                    Refused               XAP                                  41511\n",
       "                                          Building a house or an annex             0\n",
       "                                          Journey                                  0\n",
       "                                          Wedding / gift / holiday                 0\n",
       "                                          Urgent needs                             0\n",
       "                                          Repairs                                  0\n",
       "                                          Refusal to name the goal                 0\n",
       "                                          Purchase of electronic equipment         0\n",
       "                                          Payments on other loans                  0\n",
       "                                          Other                                    0\n",
       "                                          Money for a third person                 0\n",
       "                                          Medicine                                 0\n",
       "                                          Hobby                                    0\n",
       "                                          Business development                     0\n",
       "                                          Gasification / water supply              0\n",
       "                                          Furniture                                0\n",
       "                                          Everyday expenses                        0\n",
       "                                          Education                                0\n",
       "                                          Car repairs                              0\n",
       "                                          Buying a used car                        0\n",
       "                                          Buying a new car                         0\n",
       "                                          Buying a home                            0\n",
       "                                          Buying a holiday home / land             0\n",
       "                                          Buying a garage                          0\n",
       "                                          XNA                                      0\n",
       "                    Unused offer          XAP                                      4\n",
       "                                          Building a house or an annex             0\n",
       "                                          Journey                                  0\n",
       "                                          Wedding / gift / holiday                 0\n",
       "                                          Urgent needs                             0\n",
       "                                          Repairs                                  0\n",
       "                                          Refusal to name the goal                 0\n",
       "                                          Purchase of electronic equipment         0\n",
       "                                          Payments on other loans                  0\n",
       "                                          Other                                    0\n",
       "                                          Money for a third person                 0\n",
       "                                          Medicine                                 0\n",
       "                                          Hobby                                    0\n",
       "                                          Business development                     0\n",
       "                                          Gasification / water supply              0\n",
       "                                          Furniture                                0\n",
       "                                          Everyday expenses                        0\n",
       "                                          Education                                0\n",
       "                                          Car repairs                              0\n",
       "                                          Buying a used car                        0\n",
       "                                          Buying a new car                         0\n",
       "                                          Buying a home                            0\n",
       "                                          Buying a holiday home / land             0\n",
       "                                          Buying a garage                          0\n",
       "                                          XNA                                      0\n",
       "XNA                 Canceled              XAP                                    284\n",
       "                                          Building a house or an annex             0\n",
       "                                          Journey                                  0\n",
       "                                          Wedding / gift / holiday                 0\n",
       "                                          Urgent needs                             0\n",
       "                                          Repairs                                  0\n",
       "                                          Refusal to name the goal                 0\n",
       "                                          Purchase of electronic equipment         0\n",
       "                                          Payments on other loans                  0\n",
       "                                          Other                                    0\n",
       "                                          Money for a third person                 0\n",
       "                                          Medicine                                 0\n",
       "                                          Hobby                                    0\n",
       "                                          Business development                     0\n",
       "                                          Gasification / water supply              0\n",
       "                                          Furniture                                0\n",
       "                                          Everyday expenses                        0\n",
       "                                          Education                                0\n",
       "                                          Car repairs                              0\n",
       "                                          Buying a used car                        0\n",
       "                                          Buying a new car                         0\n",
       "                                          Buying a home                            0\n",
       "                                          Buying a holiday home / land             0\n",
       "                                          Buying a garage                          0\n",
       "                                          XNA                                      0\n",
       "                    Refused               XAP                                     29\n",
       "                                          Building a house or an annex             0\n",
       "                                          Journey                                  0\n",
       "                                          Wedding / gift / holiday                 0\n",
       "                                          Urgent needs                             0\n",
       "                                          Repairs                                  0\n",
       "                                          Refusal to name the goal                 0\n",
       "                                          Purchase of electronic equipment         0\n",
       "                                          Payments on other loans                  0\n",
       "                                          Other                                    0\n",
       "                                          Money for a third person                 0\n",
       "                                          Medicine                                 0\n",
       "                                          Hobby                                    0\n",
       "                                          Business development                     0\n",
       "                                          Gasification / water supply              0\n",
       "                                          Furniture                                0\n",
       "                                          Everyday expenses                        0\n",
       "                                          Education                                0\n",
       "                                          Car repairs                              0\n",
       "                                          Buying a used car                        0\n",
       "                                          Buying a new car                         0\n",
       "                                          Buying a home                            0\n",
       "                                          Buying a holiday home / land             0\n",
       "                                          Buying a garage                          0\n",
       "                                          XNA                                      0\n",
       "Name: NAME_CASH_LOAN_PURPOSE, dtype: int64"
      ]
     },
     "execution_count": 106,
     "metadata": {},
     "output_type": "execute_result"
    }
   ],
   "source": [
    "#find spread of NAME_CASH_LOAN_PURPOSE across loan types and status\n",
    "df3.groupby([\"NAME_CONTRACT_TYPE\",\"NAME_CONTRACT_STATUS\"]).NAME_CASH_LOAN_PURPOSE.value_counts()"
   ]
  },
  {
   "cell_type": "code",
   "execution_count": 107,
   "id": "990d3266",
   "metadata": {},
   "outputs": [],
   "source": [
    "#As this column is only applocable for cash loan, replace XAP with null values\n",
    "df3.NAME_CASH_LOAN_PURPOSE.replace(\"XAP\",np.NaN,inplace=True)"
   ]
  },
  {
   "cell_type": "code",
   "execution_count": 108,
   "id": "88e79914",
   "metadata": {},
   "outputs": [],
   "source": [
    "#As XNA is junck value, replace it with \"unknown\"\n",
    "df3.NAME_CASH_LOAN_PURPOSE.replace(\"XNA\",\"unknown\",inplace=True)"
   ]
  },
  {
   "cell_type": "code",
   "execution_count": 109,
   "id": "e83edf19",
   "metadata": {},
   "outputs": [
    {
     "data": {
      "image/png": "[encoded data removed]",
      "text/plain": [
       "<Figure size 720x576 with 2 Axes>"
      ]
     },
     "metadata": {
      "needs_background": "light"
     },
     "output_type": "display_data"
    }
   ],
   "source": [
    "#Create a visualisation of NAME_CONTRACT_TYPE using countplot\n",
    "fig,ax = plt.subplots(1,2,figsize=(10,8))\n",
    "sns.countplot(ax=ax[0],y=\"NAME_CASH_LOAN_PURPOSE\",data=df3)\n",
    "sns.countplot(ax=ax[1],x=\"TARGET\",data=df3,hue=\"NAME_CASH_LOAN_PURPOSE\")\n",
    "plt.subplots_adjust(left=0.1,\n",
    "                    bottom=0.1, \n",
    "                    right=2, \n",
    "                    top=0.9, \n",
    "                    wspace=0.4, \n",
    "                    hspace=0.4)\n",
    "\n",
    "plt.show()"
   ]
  },
  {
   "cell_type": "code",
   "execution_count": 110,
   "id": "38d0f15e",
   "metadata": {},
   "outputs": [
    {
     "data": {
      "text/plain": [
       "unknown                             90.52\n",
       "Repairs                              3.21\n",
       "Other                                2.14\n",
       "Urgent needs                         1.15\n",
       "Buying a used car                    0.39\n",
       "Building a house or an annex         0.37\n",
       "Everyday expenses                    0.33\n",
       "Medicine                             0.30\n",
       "Payments on other loans              0.25\n",
       "Education                            0.21\n",
       "Journey                              0.17\n",
       "Purchase of electronic equipment     0.15\n",
       "Buying a new car                     0.14\n",
       "Wedding / gift / holiday             0.13\n",
       "Buying a home                        0.11\n",
       "Car repairs                          0.11\n",
       "Furniture                            0.11\n",
       "Buying a holiday home / land         0.07\n",
       "Business development                 0.06\n",
       "Gasification / water supply          0.04\n",
       "Buying a garage                      0.02\n",
       "Hobby                                0.01\n",
       "Money for a third person             0.00\n",
       "Refusal to name the goal             0.00\n",
       "Name: NAME_CASH_LOAN_PURPOSE, dtype: float64"
      ]
     },
     "execution_count": 110,
     "metadata": {},
     "output_type": "execute_result"
    }
   ],
   "source": [
    "#find percentage breakup of distribuiton\n",
    "round((df3.NAME_CASH_LOAN_PURPOSE.value_counts(normalize=True)*100),2)"
   ]
  },
  {
   "cell_type": "code",
   "execution_count": 111,
   "id": "c28405ea",
   "metadata": {},
   "outputs": [],
   "source": [
    "#drop the column as over 85% of the values are junk\n",
    "df3.drop(\"NAME_CASH_LOAN_PURPOSE\",axis=1,inplace=True)"
   ]
  },
  {
   "cell_type": "code",
   "execution_count": 112,
   "id": "3a620829",
   "metadata": {},
   "outputs": [
    {
     "data": {
      "image/png": "[encoded data removed]",
      "text/plain": [
       "<Figure size 720x576 with 2 Axes>"
      ]
     },
     "metadata": {
      "needs_background": "light"
     },
     "output_type": "display_data"
    }
   ],
   "source": [
    "#Create a visualisation of NAME_CONTRACT_STATUS using countplot\n",
    "fig,ax = plt.subplots(1,2,figsize=(10,8))\n",
    "sns.countplot(ax=ax[0],x=\"NAME_CONTRACT_STATUS\",data=df3)\n",
    "sns.countplot(ax=ax[1],x=\"TARGET\",data=df3,hue=\"NAME_CONTRACT_STATUS\")\n",
    "plt.subplots_adjust(left=0.1,\n",
    "                    bottom=0.1, \n",
    "                    right=2, \n",
    "                    top=0.9, \n",
    "                    wspace=0.4, \n",
    "                    hspace=0.4)\n",
    "\n",
    "plt.show()"
   ]
  },
  {
   "cell_type": "code",
   "execution_count": 113,
   "id": "7f8c79cf",
   "metadata": {},
   "outputs": [
    {
     "data": {
      "text/plain": [
       "Approved        62.68\n",
       "Canceled        18.35\n",
       "Refused         17.36\n",
       "Unused offer     1.61\n",
       "Name: NAME_CONTRACT_STATUS, dtype: float64"
      ]
     },
     "execution_count": 113,
     "metadata": {},
     "output_type": "execute_result"
    }
   ],
   "source": [
    "#find percentage breakup of distribuiton\n",
    "round((df3.NAME_CONTRACT_STATUS.value_counts(normalize=True)*100),2)"
   ]
  },
  {
   "cell_type": "code",
   "execution_count": 114,
   "id": "b0d6e0a0",
   "metadata": {},
   "outputs": [
    {
     "data": {
      "text/plain": [
       "TARGET              \n",
       "0       Approved        63.41\n",
       "        Canceled        18.25\n",
       "        Refused         16.72\n",
       "        Unused offer     1.62\n",
       "1       Approved        54.96\n",
       "        Refused         24.06\n",
       "        Canceled        19.45\n",
       "        Unused offer     1.54\n",
       "Name: NAME_CONTRACT_STATUS, dtype: float64"
      ]
     },
     "execution_count": 114,
     "metadata": {},
     "output_type": "execute_result"
    }
   ],
   "source": [
    "# Segmented analysis based on TARGET variable\n",
    "round((df3.groupby(\"TARGET\").NAME_CONTRACT_STATUS.value_counts(normalize=True)*100),2)"
   ]
  },
  {
   "cell_type": "code",
   "execution_count": 115,
   "id": "e4656124",
   "metadata": {},
   "outputs": [
    {
     "data": {
      "image/png": "[encoded data removed]",
      "text/plain": [
       "<Figure size 432x288 with 1 Axes>"
      ]
     },
     "metadata": {
      "needs_background": "light"
     },
     "output_type": "display_data"
    }
   ],
   "source": [
    "#find out the rate at which loans defaulted based on previous loan status\n",
    "df3.groupby(\"NAME_CONTRACT_STATUS\").TARGET.mean().plot.bar()\n",
    "plt.show()"
   ]
  },
  {
   "cell_type": "code",
   "execution_count": 116,
   "id": "420caf3c",
   "metadata": {},
   "outputs": [
    {
     "data": {
      "text/plain": [
       "NAME_CONTRACT_STATUS\n",
       "Approved         7.588655\n",
       "Canceled         9.173569\n",
       "Refused         11.996414\n",
       "Unused offer     8.251724\n",
       "Name: TARGET, dtype: float64"
      ]
     },
     "execution_count": 116,
     "metadata": {},
     "output_type": "execute_result"
    }
   ],
   "source": [
    "#find out percentage breakup for above plot\n",
    "df3.groupby(\"NAME_CONTRACT_STATUS\").TARGET.mean()*100"
   ]
  },
  {
   "cell_type": "code",
   "execution_count": 117,
   "id": "654ca38d",
   "metadata": {},
   "outputs": [
    {
     "data": {
      "text/plain": [
       "Cash through the bank                        882700\n",
       "XNA                                          522960\n",
       "Non-cash from your account                     7100\n",
       "Cashless from the account of the employer       941\n",
       "Name: NAME_PAYMENT_TYPE, dtype: int64"
      ]
     },
     "execution_count": 117,
     "metadata": {},
     "output_type": "execute_result"
    }
   ],
   "source": [
    "#check values associated with \n",
    "df3.NAME_PAYMENT_TYPE.value_counts()"
   ]
  },
  {
   "cell_type": "code",
   "execution_count": 118,
   "id": "667801b8",
   "metadata": {},
   "outputs": [
    {
     "data": {
      "image/png": "[encoded data removed]",
      "text/plain": [
       "<Figure size 720x576 with 2 Axes>"
      ]
     },
     "metadata": {
      "needs_background": "light"
     },
     "output_type": "display_data"
    }
   ],
   "source": [
    "#Create a visualisation of NAME_CONTRACT_STATUS using countplot\n",
    "fig,ax = plt.subplots(1,2,figsize=(10,8))\n",
    "sns.countplot(ax=ax[0],y=\"NAME_PAYMENT_TYPE\",data=df3)\n",
    "sns.countplot(ax=ax[1],x=\"TARGET\",data=df3,hue=\"NAME_PAYMENT_TYPE\")\n",
    "plt.subplots_adjust(left=0.1,\n",
    "                    bottom=0.1, \n",
    "                    right=2, \n",
    "                    top=0.9, \n",
    "                    wspace=0.4, \n",
    "                    hspace=0.4)\n",
    "\n",
    "plt.show()"
   ]
  },
  {
   "cell_type": "code",
   "execution_count": 119,
   "id": "93088ee2",
   "metadata": {},
   "outputs": [
    {
     "data": {
      "text/plain": [
       "Cash through the bank                        62.44\n",
       "XNA                                          36.99\n",
       "Non-cash from your account                    0.50\n",
       "Cashless from the account of the employer     0.07\n",
       "Name: NAME_PAYMENT_TYPE, dtype: float64"
      ]
     },
     "execution_count": 119,
     "metadata": {},
     "output_type": "execute_result"
    }
   ],
   "source": [
    "#find percentage breakup of distribuiton\n",
    "round((df3.NAME_PAYMENT_TYPE.value_counts(normalize=True)*100),2)"
   ]
  },
  {
   "cell_type": "code",
   "execution_count": 120,
   "id": "f2b55c72",
   "metadata": {},
   "outputs": [
    {
     "data": {
      "text/plain": [
       "TARGET                                           \n",
       "0       Cash through the bank                        62.83\n",
       "        XNA                                          36.60\n",
       "        Non-cash from your account                    0.50\n",
       "        Cashless from the account of the employer     0.07\n",
       "1       Cash through the bank                        58.34\n",
       "        XNA                                          41.13\n",
       "        Non-cash from your account                    0.48\n",
       "        Cashless from the account of the employer     0.06\n",
       "Name: NAME_PAYMENT_TYPE, dtype: float64"
      ]
     },
     "execution_count": 120,
     "metadata": {},
     "output_type": "execute_result"
    }
   ],
   "source": [
    "# Segmented analysis based on TARGET variable\n",
    "round((df3.groupby(\"TARGET\").NAME_PAYMENT_TYPE.value_counts(normalize=True)*100),2)"
   ]
  },
  {
   "cell_type": "code",
   "execution_count": null,
   "id": "e8e23e0e",
   "metadata": {},
   "outputs": [],
   "source": []
  },
  {
   "cell_type": "code",
   "execution_count": null,
   "id": "13a01d44",
   "metadata": {},
   "outputs": [],
   "source": []
  },
  {
   "cell_type": "code",
   "execution_count": 121,
   "id": "751a7c3a",
   "metadata": {},
   "outputs": [
    {
     "data": {
      "text/plain": [
       "NAME_CONTRACT_STATUS        \n",
       "Approved              XAP       88609100\n",
       "                      XNA            800\n",
       "                      CLIENT           0\n",
       "                      HC               0\n",
       "                      LIMIT            0\n",
       "                      SCO              0\n",
       "                      SCOFR            0\n",
       "                      SYSTEM           0\n",
       "                      VERIF            0\n",
       "Canceled              XAP       25944100\n",
       "                      CLIENT           0\n",
       "                      HC               0\n",
       "                      LIMIT            0\n",
       "                      SCO              0\n",
       "                      SCOFR            0\n",
       "                      SYSTEM           0\n",
       "                      VERIF            0\n",
       "                      XNA              0\n",
       "Refused               HC        14598400\n",
       "                      LIMIT      4777300\n",
       "                      SCO        3263600\n",
       "                      SCOFR      1087500\n",
       "                      XNA         437000\n",
       "                      VERIF       307900\n",
       "                      SYSTEM       67200\n",
       "                      XAP            100\n",
       "                      CLIENT           0\n",
       "Unused offer          CLIENT     2277100\n",
       "                      HC               0\n",
       "                      LIMIT            0\n",
       "                      SCO              0\n",
       "                      SCOFR            0\n",
       "                      SYSTEM           0\n",
       "                      VERIF            0\n",
       "                      XAP              0\n",
       "                      XNA              0\n",
       "Name: CODE_REJECT_REASON, dtype: int64"
      ]
     },
     "execution_count": 121,
     "metadata": {},
     "output_type": "execute_result"
    }
   ],
   "source": [
    "df3.groupby(\"NAME_CONTRACT_STATUS\").CODE_REJECT_REASON.value_counts()*100"
   ]
  },
  {
   "cell_type": "code",
   "execution_count": 122,
   "id": "1c5d289e",
   "metadata": {},
   "outputs": [],
   "source": [
    "#mark XAP as null values as most of them are recorded for Approved loans. This column is applicable only for refused loans\n",
    "df3.CODE_REJECT_REASON.replace(\"XAP\",np.NaN,inplace=True)"
   ]
  },
  {
   "cell_type": "code",
   "execution_count": 123,
   "id": "0798a3c8",
   "metadata": {},
   "outputs": [],
   "source": [
    "#replace XNA with mode as it is a junk value\n",
    "df3.CODE_REJECT_REASON.replace(\"XNA\",df3.CODE_REJECT_REASON.mode()[0],inplace=True)"
   ]
  },
  {
   "cell_type": "code",
   "execution_count": 124,
   "id": "7a5dabfd",
   "metadata": {},
   "outputs": [
    {
     "data": {
      "text/plain": [
       "NAME_CONTRACT_STATUS        \n",
       "Approved              HC             800\n",
       "                      CLIENT           0\n",
       "                      LIMIT            0\n",
       "                      SCO              0\n",
       "                      SCOFR            0\n",
       "                      SYSTEM           0\n",
       "                      VERIF            0\n",
       "Canceled              CLIENT           0\n",
       "                      HC               0\n",
       "                      LIMIT            0\n",
       "                      SCO              0\n",
       "                      SCOFR            0\n",
       "                      SYSTEM           0\n",
       "                      VERIF            0\n",
       "Refused               HC        15035400\n",
       "                      LIMIT      4777300\n",
       "                      SCO        3263600\n",
       "                      SCOFR      1087500\n",
       "                      VERIF       307900\n",
       "                      SYSTEM       67200\n",
       "                      CLIENT           0\n",
       "Unused offer          CLIENT     2277100\n",
       "                      HC               0\n",
       "                      LIMIT            0\n",
       "                      SCO              0\n",
       "                      SCOFR            0\n",
       "                      SYSTEM           0\n",
       "                      VERIF            0\n",
       "Name: CODE_REJECT_REASON, dtype: int64"
      ]
     },
     "execution_count": 124,
     "metadata": {},
     "output_type": "execute_result"
    }
   ],
   "source": [
    "df3.groupby(\"NAME_CONTRACT_STATUS\").CODE_REJECT_REASON.value_counts()*100"
   ]
  },
  {
   "cell_type": "code",
   "execution_count": 125,
   "id": "ca91342f",
   "metadata": {},
   "outputs": [
    {
     "data": {
      "image/png": "[encoded data removed]",
      "text/plain": [
       "<Figure size 720x576 with 2 Axes>"
      ]
     },
     "metadata": {
      "needs_background": "light"
     },
     "output_type": "display_data"
    }
   ],
   "source": [
    "#Create a visualisation of NAME_CONTRACT_STATUS using countplot\n",
    "fig,ax = plt.subplots(1,2,figsize=(10,8))\n",
    "sns.countplot(ax=ax[0],y=\"CODE_REJECT_REASON\",data=df3)\n",
    "sns.countplot(ax=ax[1],x=\"TARGET\",data=df3,hue=\"CODE_REJECT_REASON\")\n",
    "plt.subplots_adjust(left=0.1,\n",
    "                    bottom=0.1, \n",
    "                    right=2, \n",
    "                    top=0.9, \n",
    "                    wspace=0.4, \n",
    "                    hspace=0.4)\n",
    "\n",
    "plt.show()"
   ]
  },
  {
   "cell_type": "code",
   "execution_count": 126,
   "id": "907f77ad",
   "metadata": {},
   "outputs": [
    {
     "data": {
      "text/plain": [
       "HC        56.070075\n",
       "LIMIT     17.814579\n",
       "SCO       12.169983\n",
       "CLIENT     8.491319\n",
       "SCOFR      4.055294\n",
       "VERIF      1.148161\n",
       "SYSTEM     0.250589\n",
       "Name: CODE_REJECT_REASON, dtype: float64"
      ]
     },
     "execution_count": 126,
     "metadata": {},
     "output_type": "execute_result"
    }
   ],
   "source": [
    "df3.CODE_REJECT_REASON.value_counts(normalize=True)*100"
   ]
  },
  {
   "cell_type": "code",
   "execution_count": 127,
   "id": "43b6c231",
   "metadata": {},
   "outputs": [
    {
     "data": {
      "text/plain": [
       "TARGET        \n",
       "0       HC        56.064783\n",
       "        LIMIT     17.636827\n",
       "        SCO       12.401468\n",
       "        CLIENT     8.820735\n",
       "        SCOFR      3.630553\n",
       "        VERIF      1.179645\n",
       "        SYSTEM     0.265990\n",
       "1       HC        56.110100\n",
       "        LIMIT     19.158923\n",
       "        SCO       10.419261\n",
       "        SCOFR      7.267618\n",
       "        CLIENT     5.999936\n",
       "        VERIF      0.910049\n",
       "        SYSTEM     0.134112\n",
       "Name: CODE_REJECT_REASON, dtype: float64"
      ]
     },
     "execution_count": 127,
     "metadata": {},
     "output_type": "execute_result"
    }
   ],
   "source": [
    "df3.groupby(\"TARGET\").CODE_REJECT_REASON.value_counts(normalize=True)*100"
   ]
  },
  {
   "cell_type": "code",
   "execution_count": 128,
   "id": "90c0fef4",
   "metadata": {},
   "outputs": [
    {
     "data": {
      "image/png": "[encoded data removed]",
      "text/plain": [
       "<Figure size 432x288 with 1 Axes>"
      ]
     },
     "metadata": {
      "needs_background": "light"
     },
     "output_type": "display_data"
    }
   ],
   "source": [
    "df3.groupby(\"CODE_REJECT_REASON\").TARGET.mean().plot.bar()\n",
    "plt.show()"
   ]
  },
  {
   "cell_type": "code",
   "execution_count": null,
   "id": "e448624e",
   "metadata": {},
   "outputs": [],
   "source": []
  }
 ],
 "metadata": {
  "kernelspec": {
   "display_name": "Python 3 (ipykernel)",
   "language": "python",
   "name": "python3"
  },
  "language_info": {
   "codemirror_mode": {
    "name": "ipython",
    "version": 3
   },
   "file_extension": ".py",
   "mimetype": "text/x-python",
   "name": "python",
   "nbconvert_exporter": "python",
   "pygments_lexer": "ipython3",
   "version": "3.9.7"
  }
 },
 "nbformat": 4,
 "nbformat_minor": 5
}
